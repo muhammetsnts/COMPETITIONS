{
 "cells": [
  {
   "cell_type": "code",
   "execution_count": 1,
   "metadata": {},
   "outputs": [],
   "source": [
    "import pandas as pd\n",
    "import numpy as np\n",
    "import matplotlib.pyplot as plt\n",
    "%matplotlib inline\n",
    "import seaborn as sns"
   ]
  },
  {
   "cell_type": "code",
   "execution_count": 2,
   "metadata": {},
   "outputs": [],
   "source": [
    "df = pd.read_csv(\"train.csv\")"
   ]
  },
  {
   "cell_type": "code",
   "execution_count": 3,
   "metadata": {},
   "outputs": [
    {
     "data": {
      "text/html": [
       "<div>\n",
       "<style scoped>\n",
       "    .dataframe tbody tr th:only-of-type {\n",
       "        vertical-align: middle;\n",
       "    }\n",
       "\n",
       "    .dataframe tbody tr th {\n",
       "        vertical-align: top;\n",
       "    }\n",
       "\n",
       "    .dataframe thead th {\n",
       "        text-align: right;\n",
       "    }\n",
       "</style>\n",
       "<table border=\"1\" class=\"dataframe\">\n",
       "  <thead>\n",
       "    <tr style=\"text-align: right;\">\n",
       "      <th></th>\n",
       "      <th>Loan_ID</th>\n",
       "      <th>Gender</th>\n",
       "      <th>Married</th>\n",
       "      <th>Dependents</th>\n",
       "      <th>Education</th>\n",
       "      <th>Self_Employed</th>\n",
       "      <th>ApplicantIncome</th>\n",
       "      <th>CoapplicantIncome</th>\n",
       "      <th>LoanAmount</th>\n",
       "      <th>Loan_Amount_Term</th>\n",
       "      <th>Credit_History</th>\n",
       "      <th>Property_Area</th>\n",
       "      <th>Loan_Status</th>\n",
       "    </tr>\n",
       "  </thead>\n",
       "  <tbody>\n",
       "    <tr>\n",
       "      <td>0</td>\n",
       "      <td>LP001002</td>\n",
       "      <td>Male</td>\n",
       "      <td>No</td>\n",
       "      <td>0</td>\n",
       "      <td>Graduate</td>\n",
       "      <td>No</td>\n",
       "      <td>5849</td>\n",
       "      <td>0.0</td>\n",
       "      <td>NaN</td>\n",
       "      <td>360.0</td>\n",
       "      <td>1.0</td>\n",
       "      <td>Urban</td>\n",
       "      <td>Y</td>\n",
       "    </tr>\n",
       "    <tr>\n",
       "      <td>1</td>\n",
       "      <td>LP001003</td>\n",
       "      <td>Male</td>\n",
       "      <td>Yes</td>\n",
       "      <td>1</td>\n",
       "      <td>Graduate</td>\n",
       "      <td>No</td>\n",
       "      <td>4583</td>\n",
       "      <td>1508.0</td>\n",
       "      <td>128.0</td>\n",
       "      <td>360.0</td>\n",
       "      <td>1.0</td>\n",
       "      <td>Rural</td>\n",
       "      <td>N</td>\n",
       "    </tr>\n",
       "    <tr>\n",
       "      <td>2</td>\n",
       "      <td>LP001005</td>\n",
       "      <td>Male</td>\n",
       "      <td>Yes</td>\n",
       "      <td>0</td>\n",
       "      <td>Graduate</td>\n",
       "      <td>Yes</td>\n",
       "      <td>3000</td>\n",
       "      <td>0.0</td>\n",
       "      <td>66.0</td>\n",
       "      <td>360.0</td>\n",
       "      <td>1.0</td>\n",
       "      <td>Urban</td>\n",
       "      <td>Y</td>\n",
       "    </tr>\n",
       "    <tr>\n",
       "      <td>3</td>\n",
       "      <td>LP001006</td>\n",
       "      <td>Male</td>\n",
       "      <td>Yes</td>\n",
       "      <td>0</td>\n",
       "      <td>Not Graduate</td>\n",
       "      <td>No</td>\n",
       "      <td>2583</td>\n",
       "      <td>2358.0</td>\n",
       "      <td>120.0</td>\n",
       "      <td>360.0</td>\n",
       "      <td>1.0</td>\n",
       "      <td>Urban</td>\n",
       "      <td>Y</td>\n",
       "    </tr>\n",
       "    <tr>\n",
       "      <td>4</td>\n",
       "      <td>LP001008</td>\n",
       "      <td>Male</td>\n",
       "      <td>No</td>\n",
       "      <td>0</td>\n",
       "      <td>Graduate</td>\n",
       "      <td>No</td>\n",
       "      <td>6000</td>\n",
       "      <td>0.0</td>\n",
       "      <td>141.0</td>\n",
       "      <td>360.0</td>\n",
       "      <td>1.0</td>\n",
       "      <td>Urban</td>\n",
       "      <td>Y</td>\n",
       "    </tr>\n",
       "    <tr>\n",
       "      <td>5</td>\n",
       "      <td>LP001011</td>\n",
       "      <td>Male</td>\n",
       "      <td>Yes</td>\n",
       "      <td>2</td>\n",
       "      <td>Graduate</td>\n",
       "      <td>Yes</td>\n",
       "      <td>5417</td>\n",
       "      <td>4196.0</td>\n",
       "      <td>267.0</td>\n",
       "      <td>360.0</td>\n",
       "      <td>1.0</td>\n",
       "      <td>Urban</td>\n",
       "      <td>Y</td>\n",
       "    </tr>\n",
       "    <tr>\n",
       "      <td>6</td>\n",
       "      <td>LP001013</td>\n",
       "      <td>Male</td>\n",
       "      <td>Yes</td>\n",
       "      <td>0</td>\n",
       "      <td>Not Graduate</td>\n",
       "      <td>No</td>\n",
       "      <td>2333</td>\n",
       "      <td>1516.0</td>\n",
       "      <td>95.0</td>\n",
       "      <td>360.0</td>\n",
       "      <td>1.0</td>\n",
       "      <td>Urban</td>\n",
       "      <td>Y</td>\n",
       "    </tr>\n",
       "    <tr>\n",
       "      <td>7</td>\n",
       "      <td>LP001014</td>\n",
       "      <td>Male</td>\n",
       "      <td>Yes</td>\n",
       "      <td>3+</td>\n",
       "      <td>Graduate</td>\n",
       "      <td>No</td>\n",
       "      <td>3036</td>\n",
       "      <td>2504.0</td>\n",
       "      <td>158.0</td>\n",
       "      <td>360.0</td>\n",
       "      <td>0.0</td>\n",
       "      <td>Semiurban</td>\n",
       "      <td>N</td>\n",
       "    </tr>\n",
       "    <tr>\n",
       "      <td>8</td>\n",
       "      <td>LP001018</td>\n",
       "      <td>Male</td>\n",
       "      <td>Yes</td>\n",
       "      <td>2</td>\n",
       "      <td>Graduate</td>\n",
       "      <td>No</td>\n",
       "      <td>4006</td>\n",
       "      <td>1526.0</td>\n",
       "      <td>168.0</td>\n",
       "      <td>360.0</td>\n",
       "      <td>1.0</td>\n",
       "      <td>Urban</td>\n",
       "      <td>Y</td>\n",
       "    </tr>\n",
       "    <tr>\n",
       "      <td>9</td>\n",
       "      <td>LP001020</td>\n",
       "      <td>Male</td>\n",
       "      <td>Yes</td>\n",
       "      <td>1</td>\n",
       "      <td>Graduate</td>\n",
       "      <td>No</td>\n",
       "      <td>12841</td>\n",
       "      <td>10968.0</td>\n",
       "      <td>349.0</td>\n",
       "      <td>360.0</td>\n",
       "      <td>1.0</td>\n",
       "      <td>Semiurban</td>\n",
       "      <td>N</td>\n",
       "    </tr>\n",
       "  </tbody>\n",
       "</table>\n",
       "</div>"
      ],
      "text/plain": [
       "    Loan_ID Gender Married Dependents     Education Self_Employed  \\\n",
       "0  LP001002   Male      No          0      Graduate            No   \n",
       "1  LP001003   Male     Yes          1      Graduate            No   \n",
       "2  LP001005   Male     Yes          0      Graduate           Yes   \n",
       "3  LP001006   Male     Yes          0  Not Graduate            No   \n",
       "4  LP001008   Male      No          0      Graduate            No   \n",
       "5  LP001011   Male     Yes          2      Graduate           Yes   \n",
       "6  LP001013   Male     Yes          0  Not Graduate            No   \n",
       "7  LP001014   Male     Yes         3+      Graduate            No   \n",
       "8  LP001018   Male     Yes          2      Graduate            No   \n",
       "9  LP001020   Male     Yes          1      Graduate            No   \n",
       "\n",
       "   ApplicantIncome  CoapplicantIncome  LoanAmount  Loan_Amount_Term  \\\n",
       "0             5849                0.0         NaN             360.0   \n",
       "1             4583             1508.0       128.0             360.0   \n",
       "2             3000                0.0        66.0             360.0   \n",
       "3             2583             2358.0       120.0             360.0   \n",
       "4             6000                0.0       141.0             360.0   \n",
       "5             5417             4196.0       267.0             360.0   \n",
       "6             2333             1516.0        95.0             360.0   \n",
       "7             3036             2504.0       158.0             360.0   \n",
       "8             4006             1526.0       168.0             360.0   \n",
       "9            12841            10968.0       349.0             360.0   \n",
       "\n",
       "   Credit_History Property_Area Loan_Status  \n",
       "0             1.0         Urban           Y  \n",
       "1             1.0         Rural           N  \n",
       "2             1.0         Urban           Y  \n",
       "3             1.0         Urban           Y  \n",
       "4             1.0         Urban           Y  \n",
       "5             1.0         Urban           Y  \n",
       "6             1.0         Urban           Y  \n",
       "7             0.0     Semiurban           N  \n",
       "8             1.0         Urban           Y  \n",
       "9             1.0     Semiurban           N  "
      ]
     },
     "execution_count": 3,
     "metadata": {},
     "output_type": "execute_result"
    }
   ],
   "source": [
    "df.head(10)"
   ]
  },
  {
   "cell_type": "code",
   "execution_count": 4,
   "metadata": {},
   "outputs": [
    {
     "name": "stdout",
     "output_type": "stream",
     "text": [
      "<class 'pandas.core.frame.DataFrame'>\n",
      "RangeIndex: 614 entries, 0 to 613\n",
      "Data columns (total 13 columns):\n",
      "Loan_ID              614 non-null object\n",
      "Gender               601 non-null object\n",
      "Married              611 non-null object\n",
      "Dependents           599 non-null object\n",
      "Education            614 non-null object\n",
      "Self_Employed        582 non-null object\n",
      "ApplicantIncome      614 non-null int64\n",
      "CoapplicantIncome    614 non-null float64\n",
      "LoanAmount           592 non-null float64\n",
      "Loan_Amount_Term     600 non-null float64\n",
      "Credit_History       564 non-null float64\n",
      "Property_Area        614 non-null object\n",
      "Loan_Status          614 non-null object\n",
      "dtypes: float64(4), int64(1), object(8)\n",
      "memory usage: 62.5+ KB\n"
     ]
    }
   ],
   "source": [
    "df.info()"
   ]
  },
  {
   "cell_type": "code",
   "execution_count": 5,
   "metadata": {},
   "outputs": [
    {
     "data": {
      "text/html": [
       "<div>\n",
       "<style scoped>\n",
       "    .dataframe tbody tr th:only-of-type {\n",
       "        vertical-align: middle;\n",
       "    }\n",
       "\n",
       "    .dataframe tbody tr th {\n",
       "        vertical-align: top;\n",
       "    }\n",
       "\n",
       "    .dataframe thead th {\n",
       "        text-align: right;\n",
       "    }\n",
       "</style>\n",
       "<table border=\"1\" class=\"dataframe\">\n",
       "  <thead>\n",
       "    <tr style=\"text-align: right;\">\n",
       "      <th></th>\n",
       "      <th>count</th>\n",
       "      <th>mean</th>\n",
       "      <th>std</th>\n",
       "      <th>min</th>\n",
       "      <th>25%</th>\n",
       "      <th>50%</th>\n",
       "      <th>75%</th>\n",
       "      <th>max</th>\n",
       "    </tr>\n",
       "  </thead>\n",
       "  <tbody>\n",
       "    <tr>\n",
       "      <td>ApplicantIncome</td>\n",
       "      <td>614.0</td>\n",
       "      <td>5403.459283</td>\n",
       "      <td>6109.041673</td>\n",
       "      <td>150.0</td>\n",
       "      <td>2877.5</td>\n",
       "      <td>3812.5</td>\n",
       "      <td>5795.00</td>\n",
       "      <td>81000.0</td>\n",
       "    </tr>\n",
       "    <tr>\n",
       "      <td>CoapplicantIncome</td>\n",
       "      <td>614.0</td>\n",
       "      <td>1621.245798</td>\n",
       "      <td>2926.248369</td>\n",
       "      <td>0.0</td>\n",
       "      <td>0.0</td>\n",
       "      <td>1188.5</td>\n",
       "      <td>2297.25</td>\n",
       "      <td>41667.0</td>\n",
       "    </tr>\n",
       "    <tr>\n",
       "      <td>LoanAmount</td>\n",
       "      <td>592.0</td>\n",
       "      <td>146.412162</td>\n",
       "      <td>85.587325</td>\n",
       "      <td>9.0</td>\n",
       "      <td>100.0</td>\n",
       "      <td>128.0</td>\n",
       "      <td>168.00</td>\n",
       "      <td>700.0</td>\n",
       "    </tr>\n",
       "    <tr>\n",
       "      <td>Loan_Amount_Term</td>\n",
       "      <td>600.0</td>\n",
       "      <td>342.000000</td>\n",
       "      <td>65.120410</td>\n",
       "      <td>12.0</td>\n",
       "      <td>360.0</td>\n",
       "      <td>360.0</td>\n",
       "      <td>360.00</td>\n",
       "      <td>480.0</td>\n",
       "    </tr>\n",
       "    <tr>\n",
       "      <td>Credit_History</td>\n",
       "      <td>564.0</td>\n",
       "      <td>0.842199</td>\n",
       "      <td>0.364878</td>\n",
       "      <td>0.0</td>\n",
       "      <td>1.0</td>\n",
       "      <td>1.0</td>\n",
       "      <td>1.00</td>\n",
       "      <td>1.0</td>\n",
       "    </tr>\n",
       "  </tbody>\n",
       "</table>\n",
       "</div>"
      ],
      "text/plain": [
       "                   count         mean          std    min     25%     50%  \\\n",
       "ApplicantIncome    614.0  5403.459283  6109.041673  150.0  2877.5  3812.5   \n",
       "CoapplicantIncome  614.0  1621.245798  2926.248369    0.0     0.0  1188.5   \n",
       "LoanAmount         592.0   146.412162    85.587325    9.0   100.0   128.0   \n",
       "Loan_Amount_Term   600.0   342.000000    65.120410   12.0   360.0   360.0   \n",
       "Credit_History     564.0     0.842199     0.364878    0.0     1.0     1.0   \n",
       "\n",
       "                       75%      max  \n",
       "ApplicantIncome    5795.00  81000.0  \n",
       "CoapplicantIncome  2297.25  41667.0  \n",
       "LoanAmount          168.00    700.0  \n",
       "Loan_Amount_Term    360.00    480.0  \n",
       "Credit_History        1.00      1.0  "
      ]
     },
     "execution_count": 5,
     "metadata": {},
     "output_type": "execute_result"
    }
   ],
   "source": [
    "df.describe().transpose()"
   ]
  },
  {
   "cell_type": "code",
   "execution_count": 6,
   "metadata": {},
   "outputs": [
    {
     "data": {
      "text/plain": [
       "Y    422\n",
       "N    192\n",
       "Name: Loan_Status, dtype: int64"
      ]
     },
     "execution_count": 6,
     "metadata": {},
     "output_type": "execute_result"
    }
   ],
   "source": [
    "df[\"Loan_Status\"].value_counts()  # this dataset is imbalanced"
   ]
  },
  {
   "cell_type": "code",
   "execution_count": 7,
   "metadata": {},
   "outputs": [],
   "source": [
    "df[\"Loan_Status\"].replace({\"Y\":1, \"N\":0},inplace=True) "
   ]
  },
  {
   "cell_type": "code",
   "execution_count": 8,
   "metadata": {},
   "outputs": [
    {
     "data": {
      "text/plain": [
       "1    422\n",
       "0    192\n",
       "Name: Loan_Status, dtype: int64"
      ]
     },
     "execution_count": 8,
     "metadata": {},
     "output_type": "execute_result"
    }
   ],
   "source": [
    "df[\"Loan_Status\"].value_counts()  "
   ]
  },
  {
   "cell_type": "code",
   "execution_count": 9,
   "metadata": {},
   "outputs": [],
   "source": [
    "df[\"Gender\"].replace({\"Male\":1, \"Female\":0}, inplace=True)"
   ]
  },
  {
   "cell_type": "code",
   "execution_count": 10,
   "metadata": {},
   "outputs": [],
   "source": [
    "df[\"Married\"] = pd.get_dummies(df[\"Married\"], drop_first=True)"
   ]
  },
  {
   "cell_type": "code",
   "execution_count": 11,
   "metadata": {},
   "outputs": [
    {
     "data": {
      "text/plain": [
       "0     345\n",
       "1     102\n",
       "2     101\n",
       "3+     51\n",
       "Name: Dependents, dtype: int64"
      ]
     },
     "execution_count": 11,
     "metadata": {},
     "output_type": "execute_result"
    }
   ],
   "source": [
    "df[\"Dependents\"].value_counts()"
   ]
  },
  {
   "cell_type": "code",
   "execution_count": 12,
   "metadata": {},
   "outputs": [
    {
     "data": {
      "text/plain": [
       "str"
      ]
     },
     "execution_count": 12,
     "metadata": {},
     "output_type": "execute_result"
    }
   ],
   "source": [
    "type(df[\"Dependents\"].iloc[0])"
   ]
  },
  {
   "cell_type": "code",
   "execution_count": 13,
   "metadata": {},
   "outputs": [],
   "source": [
    "df[\"Dependents\"].replace({\"0\":0, \"1\":1, \"2\":2, \"3+\":3}, inplace=True)"
   ]
  },
  {
   "cell_type": "code",
   "execution_count": 14,
   "metadata": {},
   "outputs": [
    {
     "data": {
      "text/plain": [
       "0.0    345\n",
       "1.0    102\n",
       "2.0    101\n",
       "3.0     51\n",
       "Name: Dependents, dtype: int64"
      ]
     },
     "execution_count": 14,
     "metadata": {},
     "output_type": "execute_result"
    }
   ],
   "source": [
    "df[\"Dependents\"].value_counts()"
   ]
  },
  {
   "cell_type": "code",
   "execution_count": 15,
   "metadata": {
    "scrolled": true
   },
   "outputs": [
    {
     "data": {
      "text/plain": [
       "Graduate        480\n",
       "Not Graduate    134\n",
       "Name: Education, dtype: int64"
      ]
     },
     "execution_count": 15,
     "metadata": {},
     "output_type": "execute_result"
    }
   ],
   "source": [
    "df[\"Education\"].value_counts()"
   ]
  },
  {
   "cell_type": "code",
   "execution_count": 16,
   "metadata": {},
   "outputs": [],
   "source": [
    "df[\"Education\"] = pd.get_dummies(df[\"Education\"], drop_first=True)"
   ]
  },
  {
   "cell_type": "code",
   "execution_count": 17,
   "metadata": {},
   "outputs": [
    {
     "data": {
      "text/plain": [
       "No     500\n",
       "Yes     82\n",
       "Name: Self_Employed, dtype: int64"
      ]
     },
     "execution_count": 17,
     "metadata": {},
     "output_type": "execute_result"
    }
   ],
   "source": [
    "df[\"Self_Employed\"].value_counts()"
   ]
  },
  {
   "cell_type": "code",
   "execution_count": 18,
   "metadata": {},
   "outputs": [],
   "source": [
    "df[\"Self_Employed\"] = pd.get_dummies(df[\"Self_Employed\"], drop_first=True)"
   ]
  },
  {
   "cell_type": "code",
   "execution_count": 19,
   "metadata": {},
   "outputs": [
    {
     "data": {
      "text/plain": [
       "360.0    512\n",
       "180.0     44\n",
       "480.0     15\n",
       "300.0     13\n",
       "84.0       4\n",
       "240.0      4\n",
       "120.0      3\n",
       "36.0       2\n",
       "60.0       2\n",
       "12.0       1\n",
       "Name: Loan_Amount_Term, dtype: int64"
      ]
     },
     "execution_count": 19,
     "metadata": {},
     "output_type": "execute_result"
    }
   ],
   "source": [
    "df[\"Loan_Amount_Term\"].value_counts()"
   ]
  },
  {
   "cell_type": "code",
   "execution_count": 20,
   "metadata": {},
   "outputs": [
    {
     "data": {
      "text/plain": [
       "Semiurban    233\n",
       "Urban        202\n",
       "Rural        179\n",
       "Name: Property_Area, dtype: int64"
      ]
     },
     "execution_count": 20,
     "metadata": {},
     "output_type": "execute_result"
    }
   ],
   "source": [
    "df[\"Property_Area\"].value_counts()"
   ]
  },
  {
   "cell_type": "code",
   "execution_count": 21,
   "metadata": {},
   "outputs": [
    {
     "data": {
      "text/html": [
       "<div>\n",
       "<style scoped>\n",
       "    .dataframe tbody tr th:only-of-type {\n",
       "        vertical-align: middle;\n",
       "    }\n",
       "\n",
       "    .dataframe tbody tr th {\n",
       "        vertical-align: top;\n",
       "    }\n",
       "\n",
       "    .dataframe thead th {\n",
       "        text-align: right;\n",
       "    }\n",
       "</style>\n",
       "<table border=\"1\" class=\"dataframe\">\n",
       "  <thead>\n",
       "    <tr style=\"text-align: right;\">\n",
       "      <th></th>\n",
       "      <th>Gender</th>\n",
       "      <th>Married</th>\n",
       "      <th>Dependents</th>\n",
       "      <th>Education</th>\n",
       "      <th>Self_Employed</th>\n",
       "      <th>ApplicantIncome</th>\n",
       "      <th>CoapplicantIncome</th>\n",
       "      <th>LoanAmount</th>\n",
       "      <th>Loan_Amount_Term</th>\n",
       "      <th>Credit_History</th>\n",
       "      <th>Loan_Status</th>\n",
       "    </tr>\n",
       "  </thead>\n",
       "  <tbody>\n",
       "    <tr>\n",
       "      <td>Gender</td>\n",
       "      <td>1.000000</td>\n",
       "      <td>0.368995</td>\n",
       "      <td>0.175970</td>\n",
       "      <td>0.049258</td>\n",
       "      <td>-0.005903</td>\n",
       "      <td>0.053989</td>\n",
       "      <td>0.083946</td>\n",
       "      <td>0.106947</td>\n",
       "      <td>-0.075117</td>\n",
       "      <td>0.016337</td>\n",
       "      <td>0.019857</td>\n",
       "    </tr>\n",
       "    <tr>\n",
       "      <td>Married</td>\n",
       "      <td>0.368995</td>\n",
       "      <td>1.000000</td>\n",
       "      <td>0.343417</td>\n",
       "      <td>0.017671</td>\n",
       "      <td>0.008491</td>\n",
       "      <td>0.050194</td>\n",
       "      <td>0.080496</td>\n",
       "      <td>0.148367</td>\n",
       "      <td>-0.104608</td>\n",
       "      <td>0.001259</td>\n",
       "      <td>0.084281</td>\n",
       "    </tr>\n",
       "    <tr>\n",
       "      <td>Dependents</td>\n",
       "      <td>0.175970</td>\n",
       "      <td>0.343417</td>\n",
       "      <td>1.000000</td>\n",
       "      <td>0.059161</td>\n",
       "      <td>0.057888</td>\n",
       "      <td>0.118679</td>\n",
       "      <td>0.027259</td>\n",
       "      <td>0.163997</td>\n",
       "      <td>-0.100484</td>\n",
       "      <td>-0.050082</td>\n",
       "      <td>0.006781</td>\n",
       "    </tr>\n",
       "    <tr>\n",
       "      <td>Education</td>\n",
       "      <td>0.049258</td>\n",
       "      <td>0.017671</td>\n",
       "      <td>0.059161</td>\n",
       "      <td>1.000000</td>\n",
       "      <td>-0.010383</td>\n",
       "      <td>-0.140760</td>\n",
       "      <td>-0.062290</td>\n",
       "      <td>-0.171133</td>\n",
       "      <td>-0.078784</td>\n",
       "      <td>-0.081822</td>\n",
       "      <td>-0.085884</td>\n",
       "    </tr>\n",
       "    <tr>\n",
       "      <td>Self_Employed</td>\n",
       "      <td>-0.005903</td>\n",
       "      <td>0.008491</td>\n",
       "      <td>0.057888</td>\n",
       "      <td>-0.010383</td>\n",
       "      <td>1.000000</td>\n",
       "      <td>0.127180</td>\n",
       "      <td>-0.016100</td>\n",
       "      <td>0.117421</td>\n",
       "      <td>-0.034361</td>\n",
       "      <td>-0.002362</td>\n",
       "      <td>-0.003700</td>\n",
       "    </tr>\n",
       "    <tr>\n",
       "      <td>ApplicantIncome</td>\n",
       "      <td>0.053989</td>\n",
       "      <td>0.050194</td>\n",
       "      <td>0.118679</td>\n",
       "      <td>-0.140760</td>\n",
       "      <td>0.127180</td>\n",
       "      <td>1.000000</td>\n",
       "      <td>-0.116605</td>\n",
       "      <td>0.570909</td>\n",
       "      <td>-0.045306</td>\n",
       "      <td>-0.014715</td>\n",
       "      <td>-0.004710</td>\n",
       "    </tr>\n",
       "    <tr>\n",
       "      <td>CoapplicantIncome</td>\n",
       "      <td>0.083946</td>\n",
       "      <td>0.080496</td>\n",
       "      <td>0.027259</td>\n",
       "      <td>-0.062290</td>\n",
       "      <td>-0.016100</td>\n",
       "      <td>-0.116605</td>\n",
       "      <td>1.000000</td>\n",
       "      <td>0.188619</td>\n",
       "      <td>-0.059878</td>\n",
       "      <td>-0.002056</td>\n",
       "      <td>-0.059187</td>\n",
       "    </tr>\n",
       "    <tr>\n",
       "      <td>LoanAmount</td>\n",
       "      <td>0.106947</td>\n",
       "      <td>0.148367</td>\n",
       "      <td>0.163997</td>\n",
       "      <td>-0.171133</td>\n",
       "      <td>0.117421</td>\n",
       "      <td>0.570909</td>\n",
       "      <td>0.188619</td>\n",
       "      <td>1.000000</td>\n",
       "      <td>0.039447</td>\n",
       "      <td>-0.008433</td>\n",
       "      <td>-0.037318</td>\n",
       "    </tr>\n",
       "    <tr>\n",
       "      <td>Loan_Amount_Term</td>\n",
       "      <td>-0.075117</td>\n",
       "      <td>-0.104608</td>\n",
       "      <td>-0.100484</td>\n",
       "      <td>-0.078784</td>\n",
       "      <td>-0.034361</td>\n",
       "      <td>-0.045306</td>\n",
       "      <td>-0.059878</td>\n",
       "      <td>0.039447</td>\n",
       "      <td>1.000000</td>\n",
       "      <td>0.001470</td>\n",
       "      <td>-0.021268</td>\n",
       "    </tr>\n",
       "    <tr>\n",
       "      <td>Credit_History</td>\n",
       "      <td>0.016337</td>\n",
       "      <td>0.001259</td>\n",
       "      <td>-0.050082</td>\n",
       "      <td>-0.081822</td>\n",
       "      <td>-0.002362</td>\n",
       "      <td>-0.014715</td>\n",
       "      <td>-0.002056</td>\n",
       "      <td>-0.008433</td>\n",
       "      <td>0.001470</td>\n",
       "      <td>1.000000</td>\n",
       "      <td>0.561678</td>\n",
       "    </tr>\n",
       "    <tr>\n",
       "      <td>Loan_Status</td>\n",
       "      <td>0.019857</td>\n",
       "      <td>0.084281</td>\n",
       "      <td>0.006781</td>\n",
       "      <td>-0.085884</td>\n",
       "      <td>-0.003700</td>\n",
       "      <td>-0.004710</td>\n",
       "      <td>-0.059187</td>\n",
       "      <td>-0.037318</td>\n",
       "      <td>-0.021268</td>\n",
       "      <td>0.561678</td>\n",
       "      <td>1.000000</td>\n",
       "    </tr>\n",
       "  </tbody>\n",
       "</table>\n",
       "</div>"
      ],
      "text/plain": [
       "                     Gender   Married  Dependents  Education  Self_Employed  \\\n",
       "Gender             1.000000  0.368995    0.175970   0.049258      -0.005903   \n",
       "Married            0.368995  1.000000    0.343417   0.017671       0.008491   \n",
       "Dependents         0.175970  0.343417    1.000000   0.059161       0.057888   \n",
       "Education          0.049258  0.017671    0.059161   1.000000      -0.010383   \n",
       "Self_Employed     -0.005903  0.008491    0.057888  -0.010383       1.000000   \n",
       "ApplicantIncome    0.053989  0.050194    0.118679  -0.140760       0.127180   \n",
       "CoapplicantIncome  0.083946  0.080496    0.027259  -0.062290      -0.016100   \n",
       "LoanAmount         0.106947  0.148367    0.163997  -0.171133       0.117421   \n",
       "Loan_Amount_Term  -0.075117 -0.104608   -0.100484  -0.078784      -0.034361   \n",
       "Credit_History     0.016337  0.001259   -0.050082  -0.081822      -0.002362   \n",
       "Loan_Status        0.019857  0.084281    0.006781  -0.085884      -0.003700   \n",
       "\n",
       "                   ApplicantIncome  CoapplicantIncome  LoanAmount  \\\n",
       "Gender                    0.053989           0.083946    0.106947   \n",
       "Married                   0.050194           0.080496    0.148367   \n",
       "Dependents                0.118679           0.027259    0.163997   \n",
       "Education                -0.140760          -0.062290   -0.171133   \n",
       "Self_Employed             0.127180          -0.016100    0.117421   \n",
       "ApplicantIncome           1.000000          -0.116605    0.570909   \n",
       "CoapplicantIncome        -0.116605           1.000000    0.188619   \n",
       "LoanAmount                0.570909           0.188619    1.000000   \n",
       "Loan_Amount_Term         -0.045306          -0.059878    0.039447   \n",
       "Credit_History           -0.014715          -0.002056   -0.008433   \n",
       "Loan_Status              -0.004710          -0.059187   -0.037318   \n",
       "\n",
       "                   Loan_Amount_Term  Credit_History  Loan_Status  \n",
       "Gender                    -0.075117        0.016337     0.019857  \n",
       "Married                   -0.104608        0.001259     0.084281  \n",
       "Dependents                -0.100484       -0.050082     0.006781  \n",
       "Education                 -0.078784       -0.081822    -0.085884  \n",
       "Self_Employed             -0.034361       -0.002362    -0.003700  \n",
       "ApplicantIncome           -0.045306       -0.014715    -0.004710  \n",
       "CoapplicantIncome         -0.059878       -0.002056    -0.059187  \n",
       "LoanAmount                 0.039447       -0.008433    -0.037318  \n",
       "Loan_Amount_Term           1.000000        0.001470    -0.021268  \n",
       "Credit_History             0.001470        1.000000     0.561678  \n",
       "Loan_Status               -0.021268        0.561678     1.000000  "
      ]
     },
     "execution_count": 21,
     "metadata": {},
     "output_type": "execute_result"
    }
   ],
   "source": [
    "df.corr()"
   ]
  },
  {
   "cell_type": "code",
   "execution_count": 22,
   "metadata": {},
   "outputs": [
    {
     "data": {
      "text/plain": [
       "(11, 0)"
      ]
     },
     "execution_count": 22,
     "metadata": {},
     "output_type": "execute_result"
    },
    {
     "data": {
      "image/png": "[encoded data removed]",
      "text/plain": [
       "<Figure size 864x576 with 2 Axes>"
      ]
     },
     "metadata": {
      "needs_background": "light"
     },
     "output_type": "display_data"
    }
   ],
   "source": [
    "plt.figure(figsize=(12,8))\n",
    "sns.heatmap(df.corr(),annot=True,cmap=\"viridis\")\n",
    "plt.ylim(11,0)"
   ]
  },
  {
   "cell_type": "code",
   "execution_count": 23,
   "metadata": {},
   "outputs": [
    {
     "data": {
      "text/plain": [
       "<matplotlib.axes._subplots.AxesSubplot at 0xb964c88>"
      ]
     },
     "execution_count": 23,
     "metadata": {},
     "output_type": "execute_result"
    },
    {
     "data": {
      "image/png": "[encoded data removed]",
      "text/plain": [
       "<Figure size 576x432 with 1 Axes>"
      ]
     },
     "metadata": {
      "needs_background": "light"
     },
     "output_type": "display_data"
    }
   ],
   "source": [
    "plt.figure(figsize=(8,6))\n",
    "sns.scatterplot(x=\"ApplicantIncome\", y=\"LoanAmount\", data=df)"
   ]
  },
  {
   "cell_type": "code",
   "execution_count": 24,
   "metadata": {},
   "outputs": [
    {
     "data": {
      "text/plain": [
       "<matplotlib.axes._subplots.AxesSubplot at 0xb995a08>"
      ]
     },
     "execution_count": 24,
     "metadata": {},
     "output_type": "execute_result"
    },
    {
     "data": {
      "image/png": "[encoded data removed]",
      "text/plain": [
       "<Figure size 576x432 with 1 Axes>"
      ]
     },
     "metadata": {
      "needs_background": "light"
     },
     "output_type": "display_data"
    }
   ],
   "source": [
    "plt.figure(figsize=(8,6))\n",
    "sns.boxplot(x=\"Loan_Status\", y=\"LoanAmount\", data=df)"
   ]
  },
  {
   "cell_type": "code",
   "execution_count": 25,
   "metadata": {},
   "outputs": [
    {
     "data": {
      "text/html": [
       "<div>\n",
       "<style scoped>\n",
       "    .dataframe tbody tr th:only-of-type {\n",
       "        vertical-align: middle;\n",
       "    }\n",
       "\n",
       "    .dataframe tbody tr th {\n",
       "        vertical-align: top;\n",
       "    }\n",
       "\n",
       "    .dataframe thead th {\n",
       "        text-align: right;\n",
       "    }\n",
       "</style>\n",
       "<table border=\"1\" class=\"dataframe\">\n",
       "  <thead>\n",
       "    <tr style=\"text-align: right;\">\n",
       "      <th></th>\n",
       "      <th>count</th>\n",
       "      <th>mean</th>\n",
       "      <th>std</th>\n",
       "      <th>min</th>\n",
       "      <th>25%</th>\n",
       "      <th>50%</th>\n",
       "      <th>75%</th>\n",
       "      <th>max</th>\n",
       "    </tr>\n",
       "    <tr>\n",
       "      <th>Loan_Status</th>\n",
       "      <th></th>\n",
       "      <th></th>\n",
       "      <th></th>\n",
       "      <th></th>\n",
       "      <th></th>\n",
       "      <th></th>\n",
       "      <th></th>\n",
       "      <th></th>\n",
       "    </tr>\n",
       "  </thead>\n",
       "  <tbody>\n",
       "    <tr>\n",
       "      <td>0</td>\n",
       "      <td>181.0</td>\n",
       "      <td>151.220994</td>\n",
       "      <td>85.862783</td>\n",
       "      <td>9.0</td>\n",
       "      <td>100.0</td>\n",
       "      <td>129.0</td>\n",
       "      <td>176.0</td>\n",
       "      <td>570.0</td>\n",
       "    </tr>\n",
       "    <tr>\n",
       "      <td>1</td>\n",
       "      <td>411.0</td>\n",
       "      <td>144.294404</td>\n",
       "      <td>85.484607</td>\n",
       "      <td>17.0</td>\n",
       "      <td>100.0</td>\n",
       "      <td>126.0</td>\n",
       "      <td>161.0</td>\n",
       "      <td>700.0</td>\n",
       "    </tr>\n",
       "  </tbody>\n",
       "</table>\n",
       "</div>"
      ],
      "text/plain": [
       "             count        mean        std   min    25%    50%    75%    max\n",
       "Loan_Status                                                                \n",
       "0            181.0  151.220994  85.862783   9.0  100.0  129.0  176.0  570.0\n",
       "1            411.0  144.294404  85.484607  17.0  100.0  126.0  161.0  700.0"
      ]
     },
     "execution_count": 25,
     "metadata": {},
     "output_type": "execute_result"
    }
   ],
   "source": [
    "df.groupby(\"Loan_Status\")[\"LoanAmount\"].describe()"
   ]
  },
  {
   "cell_type": "code",
   "execution_count": 26,
   "metadata": {},
   "outputs": [
    {
     "data": {
      "text/plain": [
       "<matplotlib.axes._subplots.AxesSubplot at 0xb9c1b88>"
      ]
     },
     "execution_count": 26,
     "metadata": {},
     "output_type": "execute_result"
    },
    {
     "data": {
      "image/png": "[encoded data removed]",
      "text/plain": [
       "<Figure size 576x432 with 1 Axes>"
      ]
     },
     "metadata": {
      "needs_background": "light"
     },
     "output_type": "display_data"
    }
   ],
   "source": [
    "plt.figure(figsize=(8,6))\n",
    "sns.countplot(x=\"Property_Area\", hue=\"Loan_Status\", data=df, palette=\"coolwarm\")"
   ]
  },
  {
   "cell_type": "code",
   "execution_count": 27,
   "metadata": {},
   "outputs": [
    {
     "data": {
      "text/plain": [
       "<matplotlib.axes._subplots.AxesSubplot at 0xba634c8>"
      ]
     },
     "execution_count": 27,
     "metadata": {},
     "output_type": "execute_result"
    },
    {
     "data": {
      "image/png": "[encoded data removed]",
      "text/plain": [
       "<Figure size 432x288 with 1 Axes>"
      ]
     },
     "metadata": {
      "needs_background": "light"
     },
     "output_type": "display_data"
    }
   ],
   "source": [
    "df.corr()[\"Loan_Status\"].sort_values().drop(\"Loan_Status\").plot(kind=\"bar\")"
   ]
  },
  {
   "cell_type": "markdown",
   "metadata": {},
   "source": [
    "### Preprocessing"
   ]
  },
  {
   "cell_type": "code",
   "execution_count": 28,
   "metadata": {},
   "outputs": [
    {
     "data": {
      "text/plain": [
       "Loan_ID               0\n",
       "Gender               13\n",
       "Married               0\n",
       "Dependents           15\n",
       "Education             0\n",
       "Self_Employed         0\n",
       "ApplicantIncome       0\n",
       "CoapplicantIncome     0\n",
       "LoanAmount           22\n",
       "Loan_Amount_Term     14\n",
       "Credit_History       50\n",
       "Property_Area         0\n",
       "Loan_Status           0\n",
       "dtype: int64"
      ]
     },
     "execution_count": 28,
     "metadata": {},
     "output_type": "execute_result"
    }
   ],
   "source": [
    "df.isnull().sum()"
   ]
  },
  {
   "cell_type": "code",
   "execution_count": 29,
   "metadata": {},
   "outputs": [
    {
     "data": {
      "text/plain": [
       "Loan_ID              0.000000\n",
       "Gender               2.117264\n",
       "Married              0.000000\n",
       "Dependents           2.442997\n",
       "Education            0.000000\n",
       "Self_Employed        0.000000\n",
       "ApplicantIncome      0.000000\n",
       "CoapplicantIncome    0.000000\n",
       "LoanAmount           3.583062\n",
       "Loan_Amount_Term     2.280130\n",
       "Credit_History       8.143322\n",
       "Property_Area        0.000000\n",
       "Loan_Status          0.000000\n",
       "dtype: float64"
      ]
     },
     "execution_count": 29,
     "metadata": {},
     "output_type": "execute_result"
    }
   ],
   "source": [
    "100*df.isnull().sum()/len(df)"
   ]
  },
  {
   "cell_type": "code",
   "execution_count": 30,
   "metadata": {},
   "outputs": [
    {
     "data": {
      "text/plain": [
       "Gender               1.000000\n",
       "Married              0.368995\n",
       "Dependents           0.175970\n",
       "Education            0.049258\n",
       "Self_Employed       -0.005903\n",
       "ApplicantIncome      0.053989\n",
       "CoapplicantIncome    0.083946\n",
       "LoanAmount           0.106947\n",
       "Loan_Amount_Term    -0.075117\n",
       "Credit_History       0.016337\n",
       "Loan_Status          0.019857\n",
       "Name: Gender, dtype: float64"
      ]
     },
     "execution_count": 30,
     "metadata": {},
     "output_type": "execute_result"
    }
   ],
   "source": [
    "df.corr()[\"Gender\"]"
   ]
  },
  {
   "cell_type": "code",
   "execution_count": 31,
   "metadata": {},
   "outputs": [
    {
     "data": {
      "text/plain": [
       "<matplotlib.axes._subplots.AxesSubplot at 0xbd85908>"
      ]
     },
     "execution_count": 31,
     "metadata": {},
     "output_type": "execute_result"
    },
    {
     "data": {
      "image/png": "[encoded data removed]",
      "text/plain": [
       "<Figure size 432x288 with 1 Axes>"
      ]
     },
     "metadata": {
      "needs_background": "light"
     },
     "output_type": "display_data"
    }
   ],
   "source": [
    "sns.countplot(df[\"Gender\"],hue=df[\"Married\"])"
   ]
  },
  {
   "cell_type": "code",
   "execution_count": 32,
   "metadata": {},
   "outputs": [],
   "source": [
    "df2=df.copy()"
   ]
  },
  {
   "cell_type": "code",
   "execution_count": 33,
   "metadata": {},
   "outputs": [],
   "source": [
    "def fill_nan(x1,x2):\n",
    "    if np.isnan(x1):\n",
    "        if x2 == 1:\n",
    "            return 1\n",
    "        else: return 0\n",
    "    else: return x1"
   ]
  },
  {
   "cell_type": "code",
   "execution_count": 34,
   "metadata": {},
   "outputs": [],
   "source": [
    "df[\"Gender\"] = df.apply(lambda x: fill_nan(x[\"Gender\"],x[\"Married\"]),axis=1)"
   ]
  },
  {
   "cell_type": "code",
   "execution_count": 35,
   "metadata": {},
   "outputs": [
    {
     "data": {
      "text/plain": [
       "0"
      ]
     },
     "execution_count": 35,
     "metadata": {},
     "output_type": "execute_result"
    }
   ],
   "source": [
    "df[\"Gender\"].isnull().sum() "
   ]
  },
  {
   "cell_type": "code",
   "execution_count": 36,
   "metadata": {},
   "outputs": [
    {
     "data": {
      "text/plain": [
       "1.0    475\n",
       "0.0     89\n",
       "Name: Credit_History, dtype: int64"
      ]
     },
     "execution_count": 36,
     "metadata": {},
     "output_type": "execute_result"
    }
   ],
   "source": [
    "df[\"Credit_History\"].value_counts()"
   ]
  },
  {
   "cell_type": "code",
   "execution_count": 37,
   "metadata": {},
   "outputs": [
    {
     "data": {
      "text/plain": [
       "Gender               0.007382\n",
       "Married              0.001259\n",
       "Dependents          -0.050082\n",
       "Education           -0.081822\n",
       "Self_Employed       -0.002362\n",
       "ApplicantIncome     -0.014715\n",
       "CoapplicantIncome   -0.002056\n",
       "LoanAmount          -0.008433\n",
       "Loan_Amount_Term     0.001470\n",
       "Credit_History       1.000000\n",
       "Loan_Status          0.561678\n",
       "Name: Credit_History, dtype: float64"
      ]
     },
     "execution_count": 37,
     "metadata": {},
     "output_type": "execute_result"
    }
   ],
   "source": [
    "df.corr()[\"Credit_History\"]"
   ]
  },
  {
   "cell_type": "code",
   "execution_count": 38,
   "metadata": {},
   "outputs": [
    {
     "data": {
      "text/plain": [
       "<matplotlib.axes._subplots.AxesSubplot at 0xbd84388>"
      ]
     },
     "execution_count": 38,
     "metadata": {},
     "output_type": "execute_result"
    },
    {
     "data": {
      "image/png": "[encoded data removed]",
      "text/plain": [
       "<Figure size 432x288 with 1 Axes>"
      ]
     },
     "metadata": {
      "needs_background": "light"
     },
     "output_type": "display_data"
    }
   ],
   "source": [
    "sns.countplot(df[\"Credit_History\"],hue=df[\"Loan_Status\"])"
   ]
  },
  {
   "cell_type": "code",
   "execution_count": 39,
   "metadata": {},
   "outputs": [],
   "source": [
    "df[\"Credit_History\"] = df.apply(lambda x: fill_nan(x[\"Credit_History\"],x[\"Loan_Status\"]),axis=1)"
   ]
  },
  {
   "cell_type": "code",
   "execution_count": 40,
   "metadata": {},
   "outputs": [
    {
     "data": {
      "text/plain": [
       "0"
      ]
     },
     "execution_count": 40,
     "metadata": {},
     "output_type": "execute_result"
    }
   ],
   "source": [
    "df[\"Credit_History\"].isnull().sum()"
   ]
  },
  {
   "cell_type": "code",
   "execution_count": 41,
   "metadata": {},
   "outputs": [
    {
     "data": {
      "text/plain": [
       "Loan_ID               0\n",
       "Gender                0\n",
       "Married               0\n",
       "Dependents           15\n",
       "Education             0\n",
       "Self_Employed         0\n",
       "ApplicantIncome       0\n",
       "CoapplicantIncome     0\n",
       "LoanAmount           22\n",
       "Loan_Amount_Term     14\n",
       "Credit_History        0\n",
       "Property_Area         0\n",
       "Loan_Status           0\n",
       "dtype: int64"
      ]
     },
     "execution_count": 41,
     "metadata": {},
     "output_type": "execute_result"
    }
   ],
   "source": [
    "df.isnull().sum()"
   ]
  },
  {
   "cell_type": "code",
   "execution_count": 42,
   "metadata": {},
   "outputs": [
    {
     "data": {
      "text/plain": [
       "Gender               0.170742\n",
       "Married              0.343417\n",
       "Dependents           1.000000\n",
       "Education            0.059161\n",
       "Self_Employed        0.057888\n",
       "ApplicantIncome      0.118679\n",
       "CoapplicantIncome    0.027259\n",
       "LoanAmount           0.163997\n",
       "Loan_Amount_Term    -0.100484\n",
       "Credit_History      -0.058055\n",
       "Loan_Status          0.006781\n",
       "Name: Dependents, dtype: float64"
      ]
     },
     "execution_count": 42,
     "metadata": {},
     "output_type": "execute_result"
    }
   ],
   "source": [
    "df.corr()[\"Dependents\"]"
   ]
  },
  {
   "cell_type": "code",
   "execution_count": 43,
   "metadata": {},
   "outputs": [
    {
     "data": {
      "text/plain": [
       "array([[<matplotlib.axes._subplots.AxesSubplot object at 0x000000000C26BCC8>,\n",
       "        <matplotlib.axes._subplots.AxesSubplot object at 0x000000000C272888>],\n",
       "       [<matplotlib.axes._subplots.AxesSubplot object at 0x0000000005551D48>,\n",
       "        <matplotlib.axes._subplots.AxesSubplot object at 0x000000000558AE48>]],\n",
       "      dtype=object)"
      ]
     },
     "execution_count": 43,
     "metadata": {},
     "output_type": "execute_result"
    },
    {
     "data": {
      "image/png": "[encoded data removed]",
      "text/plain": [
       "<Figure size 432x288 with 4 Axes>"
      ]
     },
     "metadata": {
      "needs_background": "light"
     },
     "output_type": "display_data"
    }
   ],
   "source": [
    "df.hist(column=\"ApplicantIncome\",by=\"Dependents\",bins=50)"
   ]
  },
  {
   "cell_type": "code",
   "execution_count": 44,
   "metadata": {},
   "outputs": [
    {
     "data": {
      "text/plain": [
       "Gender               0.170742\n",
       "Married              0.343417\n",
       "Dependents           1.000000\n",
       "Education            0.059161\n",
       "Self_Employed        0.057888\n",
       "ApplicantIncome      0.118679\n",
       "CoapplicantIncome    0.027259\n",
       "LoanAmount           0.163997\n",
       "Loan_Amount_Term    -0.100484\n",
       "Credit_History      -0.058055\n",
       "Loan_Status          0.006781\n",
       "Name: Dependents, dtype: float64"
      ]
     },
     "execution_count": 44,
     "metadata": {},
     "output_type": "execute_result"
    }
   ],
   "source": [
    "df.corr()[\"Dependents\"]"
   ]
  },
  {
   "cell_type": "code",
   "execution_count": 45,
   "metadata": {},
   "outputs": [
    {
     "data": {
      "text/plain": [
       "<matplotlib.axes._subplots.AxesSubplot at 0xb1e5a08>"
      ]
     },
     "execution_count": 45,
     "metadata": {},
     "output_type": "execute_result"
    },
    {
     "data": {
      "image/png": "[encoded data removed]",
      "text/plain": [
       "<Figure size 432x288 with 1 Axes>"
      ]
     },
     "metadata": {
      "needs_background": "light"
     },
     "output_type": "display_data"
    }
   ],
   "source": [
    "sns.countplot(df[\"Dependents\"])"
   ]
  },
  {
   "cell_type": "code",
   "execution_count": 46,
   "metadata": {},
   "outputs": [],
   "source": [
    "df['Dependents'].fillna(df['Dependents'].mode()[0], inplace=True)"
   ]
  },
  {
   "cell_type": "code",
   "execution_count": 47,
   "metadata": {},
   "outputs": [
    {
     "data": {
      "text/plain": [
       "Gender              -0.077310\n",
       "Married             -0.104608\n",
       "Dependents          -0.102028\n",
       "Education           -0.078784\n",
       "Self_Employed       -0.034361\n",
       "ApplicantIncome     -0.045306\n",
       "CoapplicantIncome   -0.059878\n",
       "LoanAmount           0.039447\n",
       "Loan_Amount_Term     1.000000\n",
       "Credit_History      -0.003354\n",
       "Loan_Status         -0.021268\n",
       "Name: Loan_Amount_Term, dtype: float64"
      ]
     },
     "execution_count": 47,
     "metadata": {},
     "output_type": "execute_result"
    }
   ],
   "source": [
    "df.corr()['Loan_Amount_Term']"
   ]
  },
  {
   "cell_type": "code",
   "execution_count": 48,
   "metadata": {},
   "outputs": [],
   "source": [
    "df['Loan_Amount_Term'].fillna(df['Loan_Amount_Term'].mode()[0], inplace=True)"
   ]
  },
  {
   "cell_type": "code",
   "execution_count": 49,
   "metadata": {},
   "outputs": [
    {
     "data": {
      "text/plain": [
       "<matplotlib.axes._subplots.AxesSubplot at 0xb21e288>"
      ]
     },
     "execution_count": 49,
     "metadata": {},
     "output_type": "execute_result"
    },
    {
     "data": {
      "image/png": "[encoded data removed]",
      "text/plain": [
       "<Figure size 432x288 with 1 Axes>"
      ]
     },
     "metadata": {
      "needs_background": "light"
     },
     "output_type": "display_data"
    }
   ],
   "source": [
    "sns.countplot(df[\"Loan_Amount_Term\"])"
   ]
  },
  {
   "cell_type": "code",
   "execution_count": 50,
   "metadata": {},
   "outputs": [],
   "source": [
    "df[\"Total_Income\"]=df[\"ApplicantIncome\"]+df[\"CoapplicantIncome\"]"
   ]
  },
  {
   "cell_type": "code",
   "execution_count": 51,
   "metadata": {
    "scrolled": true
   },
   "outputs": [
    {
     "data": {
      "text/plain": [
       "<matplotlib.axes._subplots.AxesSubplot at 0xb18f488>"
      ]
     },
     "execution_count": 51,
     "metadata": {},
     "output_type": "execute_result"
    },
    {
     "data": {
      "image/png": "[encoded data removed]",
      "text/plain": [
       "<Figure size 432x288 with 1 Axes>"
      ]
     },
     "metadata": {
      "needs_background": "light"
     },
     "output_type": "display_data"
    }
   ],
   "source": [
    "sns.boxplot(df[\"Total_Income\"])"
   ]
  },
  {
   "cell_type": "code",
   "execution_count": 52,
   "metadata": {},
   "outputs": [
    {
     "data": {
      "text/plain": [
       "409    81000.0\n",
       "333    63337.0\n",
       "171    51763.0\n",
       "185    43897.0\n",
       "600    42083.0\n",
       "Name: Total_Income, dtype: float64"
      ]
     },
     "execution_count": 52,
     "metadata": {},
     "output_type": "execute_result"
    }
   ],
   "source": [
    "df[\"Total_Income\"].sort_values(ascending=False).head(5)"
   ]
  },
  {
   "cell_type": "code",
   "execution_count": 53,
   "metadata": {},
   "outputs": [],
   "source": [
    "df=df[df[\"Total_Income\"]<35000]"
   ]
  },
  {
   "cell_type": "code",
   "execution_count": 54,
   "metadata": {},
   "outputs": [
    {
     "data": {
      "text/plain": [
       "<matplotlib.axes._subplots.AxesSubplot at 0xb30fec8>"
      ]
     },
     "execution_count": 54,
     "metadata": {},
     "output_type": "execute_result"
    },
    {
     "data": {
      "image/png": "[encoded data removed]",
      "text/plain": [
       "<Figure size 432x288 with 1 Axes>"
      ]
     },
     "metadata": {
      "needs_background": "light"
     },
     "output_type": "display_data"
    }
   ],
   "source": [
    "sns.boxplot(df[\"Total_Income\"])"
   ]
  },
  {
   "cell_type": "code",
   "execution_count": 55,
   "metadata": {},
   "outputs": [],
   "source": [
    "df[\"Total_Income_Log\"] = np.log(df[\"Total_Income\"])"
   ]
  },
  {
   "cell_type": "code",
   "execution_count": 56,
   "metadata": {
    "scrolled": true
   },
   "outputs": [
    {
     "data": {
      "text/plain": [
       "<matplotlib.axes._subplots.AxesSubplot at 0xb462c48>"
      ]
     },
     "execution_count": 56,
     "metadata": {},
     "output_type": "execute_result"
    },
    {
     "data": {
      "image/png": "[encoded data removed]",
      "text/plain": [
       "<Figure size 432x288 with 1 Axes>"
      ]
     },
     "metadata": {
      "needs_background": "light"
     },
     "output_type": "display_data"
    }
   ],
   "source": [
    "sns.boxplot(df[\"Total_Income_Log\"])"
   ]
  },
  {
   "cell_type": "code",
   "execution_count": 57,
   "metadata": {},
   "outputs": [
    {
     "data": {
      "text/plain": [
       "<matplotlib.axes._subplots.AxesSubplot at 0xb4ca708>"
      ]
     },
     "execution_count": 57,
     "metadata": {},
     "output_type": "execute_result"
    },
    {
     "data": {
      "image/png": "[encoded data removed]",
      "text/plain": [
       "<Figure size 432x288 with 1 Axes>"
      ]
     },
     "metadata": {
      "needs_background": "light"
     },
     "output_type": "display_data"
    }
   ],
   "source": [
    "df['LoanAmount'].hist(bins=50)"
   ]
  },
  {
   "cell_type": "code",
   "execution_count": 58,
   "metadata": {
    "scrolled": true
   },
   "outputs": [
    {
     "data": {
      "text/plain": [
       "<matplotlib.axes._subplots.AxesSubplot at 0xb2adec8>"
      ]
     },
     "execution_count": 58,
     "metadata": {},
     "output_type": "execute_result"
    },
    {
     "data": {
      "image/png": "[encoded data removed]",
      "text/plain": [
       "<Figure size 432x288 with 1 Axes>"
      ]
     },
     "metadata": {
      "needs_background": "light"
     },
     "output_type": "display_data"
    }
   ],
   "source": [
    "sns.boxplot(df['LoanAmount'])"
   ]
  },
  {
   "cell_type": "code",
   "execution_count": 59,
   "metadata": {},
   "outputs": [],
   "source": [
    "df=df[df[\"LoanAmount\"]<470]"
   ]
  },
  {
   "cell_type": "code",
   "execution_count": 60,
   "metadata": {},
   "outputs": [],
   "source": [
    "df[\"LoanAmount_Log\"] = np.log(df[\"LoanAmount\"])"
   ]
  },
  {
   "cell_type": "code",
   "execution_count": 61,
   "metadata": {},
   "outputs": [
    {
     "data": {
      "text/plain": [
       "<matplotlib.axes._subplots.AxesSubplot at 0xb630788>"
      ]
     },
     "execution_count": 61,
     "metadata": {},
     "output_type": "execute_result"
    },
    {
     "data": {
      "image/png": "[encoded data removed]",
      "text/plain": [
       "<Figure size 432x288 with 1 Axes>"
      ]
     },
     "metadata": {
      "needs_background": "light"
     },
     "output_type": "display_data"
    }
   ],
   "source": [
    "sns.boxplot(df[\"LoanAmount_Log\"])"
   ]
  },
  {
   "cell_type": "code",
   "execution_count": 62,
   "metadata": {},
   "outputs": [],
   "source": [
    "df.drop([\"ApplicantIncome\",\"CoapplicantIncome\",\"Total_Income\",\"LoanAmount\"], axis=1, inplace=True)"
   ]
  },
  {
   "cell_type": "code",
   "execution_count": 63,
   "metadata": {
    "scrolled": true
   },
   "outputs": [
    {
     "data": {
      "text/html": [
       "<div>\n",
       "<style scoped>\n",
       "    .dataframe tbody tr th:only-of-type {\n",
       "        vertical-align: middle;\n",
       "    }\n",
       "\n",
       "    .dataframe tbody tr th {\n",
       "        vertical-align: top;\n",
       "    }\n",
       "\n",
       "    .dataframe thead th {\n",
       "        text-align: right;\n",
       "    }\n",
       "</style>\n",
       "<table border=\"1\" class=\"dataframe\">\n",
       "  <thead>\n",
       "    <tr style=\"text-align: right;\">\n",
       "      <th></th>\n",
       "      <th>Loan_ID</th>\n",
       "      <th>Gender</th>\n",
       "      <th>Married</th>\n",
       "      <th>Dependents</th>\n",
       "      <th>Education</th>\n",
       "      <th>Self_Employed</th>\n",
       "      <th>Loan_Amount_Term</th>\n",
       "      <th>Credit_History</th>\n",
       "      <th>Property_Area</th>\n",
       "      <th>Loan_Status</th>\n",
       "      <th>Total_Income_Log</th>\n",
       "      <th>LoanAmount_Log</th>\n",
       "    </tr>\n",
       "  </thead>\n",
       "  <tbody>\n",
       "    <tr>\n",
       "      <td>1</td>\n",
       "      <td>LP001003</td>\n",
       "      <td>1.0</td>\n",
       "      <td>1</td>\n",
       "      <td>1.0</td>\n",
       "      <td>0</td>\n",
       "      <td>0</td>\n",
       "      <td>360.0</td>\n",
       "      <td>1.0</td>\n",
       "      <td>Rural</td>\n",
       "      <td>0</td>\n",
       "      <td>8.714568</td>\n",
       "      <td>4.852030</td>\n",
       "    </tr>\n",
       "    <tr>\n",
       "      <td>2</td>\n",
       "      <td>LP001005</td>\n",
       "      <td>1.0</td>\n",
       "      <td>1</td>\n",
       "      <td>0.0</td>\n",
       "      <td>0</td>\n",
       "      <td>1</td>\n",
       "      <td>360.0</td>\n",
       "      <td>1.0</td>\n",
       "      <td>Urban</td>\n",
       "      <td>1</td>\n",
       "      <td>8.006368</td>\n",
       "      <td>4.189655</td>\n",
       "    </tr>\n",
       "    <tr>\n",
       "      <td>3</td>\n",
       "      <td>LP001006</td>\n",
       "      <td>1.0</td>\n",
       "      <td>1</td>\n",
       "      <td>0.0</td>\n",
       "      <td>1</td>\n",
       "      <td>0</td>\n",
       "      <td>360.0</td>\n",
       "      <td>1.0</td>\n",
       "      <td>Urban</td>\n",
       "      <td>1</td>\n",
       "      <td>8.505323</td>\n",
       "      <td>4.787492</td>\n",
       "    </tr>\n",
       "    <tr>\n",
       "      <td>4</td>\n",
       "      <td>LP001008</td>\n",
       "      <td>1.0</td>\n",
       "      <td>0</td>\n",
       "      <td>0.0</td>\n",
       "      <td>0</td>\n",
       "      <td>0</td>\n",
       "      <td>360.0</td>\n",
       "      <td>1.0</td>\n",
       "      <td>Urban</td>\n",
       "      <td>1</td>\n",
       "      <td>8.699515</td>\n",
       "      <td>4.948760</td>\n",
       "    </tr>\n",
       "    <tr>\n",
       "      <td>5</td>\n",
       "      <td>LP001011</td>\n",
       "      <td>1.0</td>\n",
       "      <td>1</td>\n",
       "      <td>2.0</td>\n",
       "      <td>0</td>\n",
       "      <td>1</td>\n",
       "      <td>360.0</td>\n",
       "      <td>1.0</td>\n",
       "      <td>Urban</td>\n",
       "      <td>1</td>\n",
       "      <td>9.170872</td>\n",
       "      <td>5.587249</td>\n",
       "    </tr>\n",
       "  </tbody>\n",
       "</table>\n",
       "</div>"
      ],
      "text/plain": [
       "    Loan_ID  Gender  Married  Dependents  Education  Self_Employed  \\\n",
       "1  LP001003     1.0        1         1.0          0              0   \n",
       "2  LP001005     1.0        1         0.0          0              1   \n",
       "3  LP001006     1.0        1         0.0          1              0   \n",
       "4  LP001008     1.0        0         0.0          0              0   \n",
       "5  LP001011     1.0        1         2.0          0              1   \n",
       "\n",
       "   Loan_Amount_Term  Credit_History Property_Area  Loan_Status  \\\n",
       "1             360.0             1.0         Rural            0   \n",
       "2             360.0             1.0         Urban            1   \n",
       "3             360.0             1.0         Urban            1   \n",
       "4             360.0             1.0         Urban            1   \n",
       "5             360.0             1.0         Urban            1   \n",
       "\n",
       "   Total_Income_Log  LoanAmount_Log  \n",
       "1          8.714568        4.852030  \n",
       "2          8.006368        4.189655  \n",
       "3          8.505323        4.787492  \n",
       "4          8.699515        4.948760  \n",
       "5          9.170872        5.587249  "
      ]
     },
     "execution_count": 63,
     "metadata": {},
     "output_type": "execute_result"
    }
   ],
   "source": [
    "df.head()"
   ]
  },
  {
   "cell_type": "code",
   "execution_count": 64,
   "metadata": {},
   "outputs": [
    {
     "data": {
      "text/plain": [
       "Loan_ID             0\n",
       "Gender              0\n",
       "Married             0\n",
       "Dependents          0\n",
       "Education           0\n",
       "Self_Employed       0\n",
       "Loan_Amount_Term    0\n",
       "Credit_History      0\n",
       "Property_Area       0\n",
       "Loan_Status         0\n",
       "Total_Income_Log    0\n",
       "LoanAmount_Log      0\n",
       "dtype: int64"
      ]
     },
     "execution_count": 64,
     "metadata": {},
     "output_type": "execute_result"
    }
   ],
   "source": [
    "df.isnull().sum()"
   ]
  },
  {
   "cell_type": "code",
   "execution_count": 66,
   "metadata": {},
   "outputs": [
    {
     "data": {
      "text/html": [
       "<div>\n",
       "<style scoped>\n",
       "    .dataframe tbody tr th:only-of-type {\n",
       "        vertical-align: middle;\n",
       "    }\n",
       "\n",
       "    .dataframe tbody tr th {\n",
       "        vertical-align: top;\n",
       "    }\n",
       "\n",
       "    .dataframe thead th {\n",
       "        text-align: right;\n",
       "    }\n",
       "</style>\n",
       "<table border=\"1\" class=\"dataframe\">\n",
       "  <thead>\n",
       "    <tr style=\"text-align: right;\">\n",
       "      <th></th>\n",
       "      <th>Semiurban</th>\n",
       "      <th>Urban</th>\n",
       "    </tr>\n",
       "  </thead>\n",
       "  <tbody>\n",
       "    <tr>\n",
       "      <td>1</td>\n",
       "      <td>0</td>\n",
       "      <td>0</td>\n",
       "    </tr>\n",
       "    <tr>\n",
       "      <td>2</td>\n",
       "      <td>0</td>\n",
       "      <td>1</td>\n",
       "    </tr>\n",
       "    <tr>\n",
       "      <td>3</td>\n",
       "      <td>0</td>\n",
       "      <td>1</td>\n",
       "    </tr>\n",
       "    <tr>\n",
       "      <td>4</td>\n",
       "      <td>0</td>\n",
       "      <td>1</td>\n",
       "    </tr>\n",
       "    <tr>\n",
       "      <td>5</td>\n",
       "      <td>0</td>\n",
       "      <td>1</td>\n",
       "    </tr>\n",
       "    <tr>\n",
       "      <td>...</td>\n",
       "      <td>...</td>\n",
       "      <td>...</td>\n",
       "    </tr>\n",
       "    <tr>\n",
       "      <td>609</td>\n",
       "      <td>0</td>\n",
       "      <td>0</td>\n",
       "    </tr>\n",
       "    <tr>\n",
       "      <td>610</td>\n",
       "      <td>0</td>\n",
       "      <td>0</td>\n",
       "    </tr>\n",
       "    <tr>\n",
       "      <td>611</td>\n",
       "      <td>0</td>\n",
       "      <td>1</td>\n",
       "    </tr>\n",
       "    <tr>\n",
       "      <td>612</td>\n",
       "      <td>0</td>\n",
       "      <td>1</td>\n",
       "    </tr>\n",
       "    <tr>\n",
       "      <td>613</td>\n",
       "      <td>1</td>\n",
       "      <td>0</td>\n",
       "    </tr>\n",
       "  </tbody>\n",
       "</table>\n",
       "<p>575 rows × 2 columns</p>\n",
       "</div>"
      ],
      "text/plain": [
       "     Semiurban  Urban\n",
       "1            0      0\n",
       "2            0      1\n",
       "3            0      1\n",
       "4            0      1\n",
       "5            0      1\n",
       "..         ...    ...\n",
       "609          0      0\n",
       "610          0      0\n",
       "611          0      1\n",
       "612          0      1\n",
       "613          1      0\n",
       "\n",
       "[575 rows x 2 columns]"
      ]
     },
     "execution_count": 66,
     "metadata": {},
     "output_type": "execute_result"
    }
   ],
   "source": [
    "dummies = pd.get_dummies(df[\"Property_Area\"], drop_first=True)\n",
    "dummies"
   ]
  },
  {
   "cell_type": "code",
   "execution_count": 67,
   "metadata": {},
   "outputs": [],
   "source": [
    "df = pd.concat([df.drop(\"Property_Area\", axis=1), dummies], axis=1)"
   ]
  },
  {
   "cell_type": "code",
   "execution_count": 68,
   "metadata": {},
   "outputs": [],
   "source": [
    "df.drop(\"Loan_ID\", axis=1, inplace=True)"
   ]
  },
  {
   "cell_type": "code",
   "execution_count": 69,
   "metadata": {},
   "outputs": [
    {
     "data": {
      "text/html": [
       "<div>\n",
       "<style scoped>\n",
       "    .dataframe tbody tr th:only-of-type {\n",
       "        vertical-align: middle;\n",
       "    }\n",
       "\n",
       "    .dataframe tbody tr th {\n",
       "        vertical-align: top;\n",
       "    }\n",
       "\n",
       "    .dataframe thead th {\n",
       "        text-align: right;\n",
       "    }\n",
       "</style>\n",
       "<table border=\"1\" class=\"dataframe\">\n",
       "  <thead>\n",
       "    <tr style=\"text-align: right;\">\n",
       "      <th></th>\n",
       "      <th>Gender</th>\n",
       "      <th>Married</th>\n",
       "      <th>Dependents</th>\n",
       "      <th>Education</th>\n",
       "      <th>Self_Employed</th>\n",
       "      <th>Loan_Amount_Term</th>\n",
       "      <th>Credit_History</th>\n",
       "      <th>Loan_Status</th>\n",
       "      <th>Total_Income_Log</th>\n",
       "      <th>LoanAmount_Log</th>\n",
       "      <th>Semiurban</th>\n",
       "      <th>Urban</th>\n",
       "    </tr>\n",
       "  </thead>\n",
       "  <tbody>\n",
       "    <tr>\n",
       "      <td>1</td>\n",
       "      <td>1.0</td>\n",
       "      <td>1</td>\n",
       "      <td>1.0</td>\n",
       "      <td>0</td>\n",
       "      <td>0</td>\n",
       "      <td>360.0</td>\n",
       "      <td>1.0</td>\n",
       "      <td>0</td>\n",
       "      <td>8.714568</td>\n",
       "      <td>4.852030</td>\n",
       "      <td>0</td>\n",
       "      <td>0</td>\n",
       "    </tr>\n",
       "    <tr>\n",
       "      <td>2</td>\n",
       "      <td>1.0</td>\n",
       "      <td>1</td>\n",
       "      <td>0.0</td>\n",
       "      <td>0</td>\n",
       "      <td>1</td>\n",
       "      <td>360.0</td>\n",
       "      <td>1.0</td>\n",
       "      <td>1</td>\n",
       "      <td>8.006368</td>\n",
       "      <td>4.189655</td>\n",
       "      <td>0</td>\n",
       "      <td>1</td>\n",
       "    </tr>\n",
       "    <tr>\n",
       "      <td>3</td>\n",
       "      <td>1.0</td>\n",
       "      <td>1</td>\n",
       "      <td>0.0</td>\n",
       "      <td>1</td>\n",
       "      <td>0</td>\n",
       "      <td>360.0</td>\n",
       "      <td>1.0</td>\n",
       "      <td>1</td>\n",
       "      <td>8.505323</td>\n",
       "      <td>4.787492</td>\n",
       "      <td>0</td>\n",
       "      <td>1</td>\n",
       "    </tr>\n",
       "    <tr>\n",
       "      <td>4</td>\n",
       "      <td>1.0</td>\n",
       "      <td>0</td>\n",
       "      <td>0.0</td>\n",
       "      <td>0</td>\n",
       "      <td>0</td>\n",
       "      <td>360.0</td>\n",
       "      <td>1.0</td>\n",
       "      <td>1</td>\n",
       "      <td>8.699515</td>\n",
       "      <td>4.948760</td>\n",
       "      <td>0</td>\n",
       "      <td>1</td>\n",
       "    </tr>\n",
       "    <tr>\n",
       "      <td>5</td>\n",
       "      <td>1.0</td>\n",
       "      <td>1</td>\n",
       "      <td>2.0</td>\n",
       "      <td>0</td>\n",
       "      <td>1</td>\n",
       "      <td>360.0</td>\n",
       "      <td>1.0</td>\n",
       "      <td>1</td>\n",
       "      <td>9.170872</td>\n",
       "      <td>5.587249</td>\n",
       "      <td>0</td>\n",
       "      <td>1</td>\n",
       "    </tr>\n",
       "  </tbody>\n",
       "</table>\n",
       "</div>"
      ],
      "text/plain": [
       "   Gender  Married  Dependents  Education  Self_Employed  Loan_Amount_Term  \\\n",
       "1     1.0        1         1.0          0              0             360.0   \n",
       "2     1.0        1         0.0          0              1             360.0   \n",
       "3     1.0        1         0.0          1              0             360.0   \n",
       "4     1.0        0         0.0          0              0             360.0   \n",
       "5     1.0        1         2.0          0              1             360.0   \n",
       "\n",
       "   Credit_History  Loan_Status  Total_Income_Log  LoanAmount_Log  Semiurban  \\\n",
       "1             1.0            0          8.714568        4.852030          0   \n",
       "2             1.0            1          8.006368        4.189655          0   \n",
       "3             1.0            1          8.505323        4.787492          0   \n",
       "4             1.0            1          8.699515        4.948760          0   \n",
       "5             1.0            1          9.170872        5.587249          0   \n",
       "\n",
       "   Urban  \n",
       "1      0  \n",
       "2      1  \n",
       "3      1  \n",
       "4      1  \n",
       "5      1  "
      ]
     },
     "execution_count": 69,
     "metadata": {},
     "output_type": "execute_result"
    }
   ],
   "source": [
    "df.head()"
   ]
  },
  {
   "cell_type": "code",
   "execution_count": 71,
   "metadata": {},
   "outputs": [
    {
     "data": {
      "text/plain": [
       "Index(['Gender', 'Married', 'Dependents', 'Education', 'Self_Employed',\n",
       "       'Loan_Amount_Term', 'Credit_History', 'Loan_Status', 'Total_Income_Log',\n",
       "       'LoanAmount_Log', 'Semiurban', 'Urban'],\n",
       "      dtype='object')"
      ]
     },
     "execution_count": 71,
     "metadata": {},
     "output_type": "execute_result"
    }
   ],
   "source": [
    "df.columns"
   ]
  },
  {
   "cell_type": "code",
   "execution_count": 76,
   "metadata": {},
   "outputs": [],
   "source": [
    "# Creating the Model\n",
    "\n",
    "import tensorflow as tf\n",
    "from tensorflow.keras.models import Sequential\n",
    "from tensorflow.keras.layers import Dense, Activation, Dropout\n",
    "from tensorflow.keras.constraints import max_norm\n",
    "from tensorflow.keras.callbacks import EarlyStopping"
   ]
  },
  {
   "cell_type": "code",
   "execution_count": 295,
   "metadata": {},
   "outputs": [],
   "source": [
    "from sklearn.model_selection import train_test_split\n",
    "# Train-test split\n",
    "X = df.drop([\"Loan_Status\"],axis=1).values\n",
    "y = df[\"Loan_Status\"].values\n",
    "X_train, X_test, y_train, y_test = train_test_split(X, y, test_size=0.2, random_state=25)"
   ]
  },
  {
   "cell_type": "code",
   "execution_count": 296,
   "metadata": {},
   "outputs": [],
   "source": [
    "# Normalizing Data\n",
    "\n",
    "from sklearn.preprocessing import StandardScaler\n",
    "scaler = StandardScaler()\n",
    "X_train = scaler.fit_transform(X_train)\n",
    "X_test = scaler.transform(X_test)"
   ]
  },
  {
   "cell_type": "code",
   "execution_count": 297,
   "metadata": {},
   "outputs": [],
   "source": [
    "reg = tf.keras.regularizers.L1L2(\n",
    "    l1=0.003, l2=0.005\n",
    ")"
   ]
  },
  {
   "cell_type": "code",
   "execution_count": 298,
   "metadata": {},
   "outputs": [],
   "source": [
    "model = Sequential()\n",
    "\n",
    "model.add(Dense(12, activation=\"relu\",kernel_regularizer=reg))\n",
    "model.add(Dropout(0.3))\n",
    "\n",
    "model.add(Dense(6, activation=\"relu\"))\n",
    "model.add(Dropout(0.2))\n",
    "\n",
    "model.add(Dense(3, activation=\"relu\"))\n",
    "model.add(Dropout(0.1))\n",
    "\n",
    "model.add(Dense(units=1, activation=\"sigmoid\",kernel_regularizer=reg))\n",
    "\n",
    "# Compile model\n",
    "model.compile(loss=\"binary_crossentropy\", optimizer=\"adam\")"
   ]
  },
  {
   "cell_type": "code",
   "execution_count": 299,
   "metadata": {},
   "outputs": [],
   "source": [
    "early_stop = EarlyStopping(patience=25, verbose=1,monitor=\"val_loss\",mode=\"min\")"
   ]
  },
  {
   "cell_type": "code",
   "execution_count": 300,
   "metadata": {},
   "outputs": [
    {
     "name": "stdout",
     "output_type": "stream",
     "text": [
      "Train on 460 samples, validate on 115 samples\n",
      "Epoch 1/500\n",
      "460/460 [==============================] - 2s 3ms/sample - loss: 1.1513 - val_loss: 0.9556\n",
      "Epoch 2/500\n",
      "460/460 [==============================] - 0s 217us/sample - loss: 1.0593 - val_loss: 0.8814\n",
      "Epoch 3/500\n",
      "460/460 [==============================] - 0s 213us/sample - loss: 0.9563 - val_loss: 0.8458\n",
      "Epoch 4/500\n",
      "460/460 [==============================] - 0s 217us/sample - loss: 0.9226 - val_loss: 0.8240\n",
      "Epoch 5/500\n",
      "460/460 [==============================] - 0s 211us/sample - loss: 0.8569 - val_loss: 0.8122\n",
      "Epoch 6/500\n",
      "460/460 [==============================] - 0s 209us/sample - loss: 0.8380 - val_loss: 0.8047\n",
      "Epoch 7/500\n",
      "460/460 [==============================] - 0s 202us/sample - loss: 0.8293 - val_loss: 0.7998\n",
      "Epoch 8/500\n",
      "460/460 [==============================] - 0s 239us/sample - loss: 0.8137 - val_loss: 0.7947\n",
      "Epoch 9/500\n",
      "460/460 [==============================] - 0s 220us/sample - loss: 0.7878 - val_loss: 0.7891\n",
      "Epoch 10/500\n",
      "460/460 [==============================] - 0s 220us/sample - loss: 0.7726 - val_loss: 0.7828\n",
      "Epoch 11/500\n",
      "460/460 [==============================] - 0s 215us/sample - loss: 0.7664 - val_loss: 0.7745\n",
      "Epoch 12/500\n",
      "460/460 [==============================] - 0s 228us/sample - loss: 0.7535 - val_loss: 0.7659\n",
      "Epoch 13/500\n",
      "460/460 [==============================] - 0s 220us/sample - loss: 0.7434 - val_loss: 0.7589\n",
      "Epoch 14/500\n",
      "460/460 [==============================] - 0s 217us/sample - loss: 0.7313 - val_loss: 0.7494\n",
      "Epoch 15/500\n",
      "460/460 [==============================] - 0s 222us/sample - loss: 0.7188 - val_loss: 0.7346\n",
      "Epoch 16/500\n",
      "460/460 [==============================] - 0s 233us/sample - loss: 0.7028 - val_loss: 0.7151\n",
      "Epoch 17/500\n",
      "460/460 [==============================] - 0s 237us/sample - loss: 0.6975 - val_loss: 0.6974\n",
      "Epoch 18/500\n",
      "460/460 [==============================] - 0s 243us/sample - loss: 0.6925 - val_loss: 0.6783\n",
      "Epoch 19/500\n",
      "460/460 [==============================] - 0s 230us/sample - loss: 0.6769 - val_loss: 0.6647\n",
      "Epoch 20/500\n",
      "460/460 [==============================] - 0s 220us/sample - loss: 0.6692 - val_loss: 0.6460\n",
      "Epoch 21/500\n",
      "460/460 [==============================] - 0s 233us/sample - loss: 0.6526 - val_loss: 0.6305\n",
      "Epoch 22/500\n",
      "460/460 [==============================] - 0s 217us/sample - loss: 0.6497 - val_loss: 0.6174\n",
      "Epoch 23/500\n",
      "460/460 [==============================] - 0s 217us/sample - loss: 0.6417 - val_loss: 0.6057\n",
      "Epoch 24/500\n",
      "460/460 [==============================] - 0s 215us/sample - loss: 0.6328 - val_loss: 0.5962\n",
      "Epoch 25/500\n",
      "460/460 [==============================] - 0s 224us/sample - loss: 0.6145 - val_loss: 0.5879\n",
      "Epoch 26/500\n",
      "460/460 [==============================] - 0s 220us/sample - loss: 0.6036 - val_loss: 0.5795\n",
      "Epoch 27/500\n",
      "460/460 [==============================] - 0s 209us/sample - loss: 0.6071 - val_loss: 0.5716\n",
      "Epoch 28/500\n",
      "460/460 [==============================] - 0s 228us/sample - loss: 0.5756 - val_loss: 0.5628\n",
      "Epoch 29/500\n",
      "460/460 [==============================] - 0s 224us/sample - loss: 0.5943 - val_loss: 0.5550\n",
      "Epoch 30/500\n",
      "460/460 [==============================] - 0s 215us/sample - loss: 0.5790 - val_loss: 0.5501\n",
      "Epoch 31/500\n",
      "460/460 [==============================] - 0s 226us/sample - loss: 0.5800 - val_loss: 0.5457\n",
      "Epoch 32/500\n",
      "460/460 [==============================] - 0s 217us/sample - loss: 0.5626 - val_loss: 0.5423\n",
      "Epoch 33/500\n",
      "460/460 [==============================] - 0s 222us/sample - loss: 0.5651 - val_loss: 0.5369\n",
      "Epoch 34/500\n",
      "460/460 [==============================] - 0s 248us/sample - loss: 0.5542 - val_loss: 0.5323\n",
      "Epoch 35/500\n",
      "460/460 [==============================] - 0s 220us/sample - loss: 0.5484 - val_loss: 0.5263\n",
      "Epoch 36/500\n",
      "460/460 [==============================] - 0s 228us/sample - loss: 0.5637 - val_loss: 0.5238\n",
      "Epoch 37/500\n",
      "460/460 [==============================] - 0s 209us/sample - loss: 0.5444 - val_loss: 0.5218\n",
      "Epoch 38/500\n",
      "460/460 [==============================] - 0s 230us/sample - loss: 0.5287 - val_loss: 0.5176\n",
      "Epoch 39/500\n",
      "460/460 [==============================] - 0s 226us/sample - loss: 0.5341 - val_loss: 0.5134\n",
      "Epoch 40/500\n",
      "460/460 [==============================] - 0s 226us/sample - loss: 0.5420 - val_loss: 0.5097\n",
      "Epoch 41/500\n",
      "460/460 [==============================] - 0s 226us/sample - loss: 0.5417 - val_loss: 0.5086\n",
      "Epoch 42/500\n",
      "460/460 [==============================] - 0s 230us/sample - loss: 0.5468 - val_loss: 0.5081\n",
      "Epoch 43/500\n",
      "460/460 [==============================] - 0s 237us/sample - loss: 0.5382 - val_loss: 0.5066\n",
      "Epoch 44/500\n",
      "460/460 [==============================] - 0s 226us/sample - loss: 0.5187 - val_loss: 0.5015\n",
      "Epoch 45/500\n",
      "460/460 [==============================] - 0s 222us/sample - loss: 0.5215 - val_loss: 0.4989\n",
      "Epoch 46/500\n",
      "460/460 [==============================] - 0s 215us/sample - loss: 0.5256 - val_loss: 0.4962\n",
      "Epoch 47/500\n",
      "460/460 [==============================] - 0s 226us/sample - loss: 0.5121 - val_loss: 0.4943\n",
      "Epoch 48/500\n",
      "460/460 [==============================] - 0s 215us/sample - loss: 0.5241 - val_loss: 0.4922\n",
      "Epoch 49/500\n",
      "460/460 [==============================] - 0s 226us/sample - loss: 0.5173 - val_loss: 0.4918\n",
      "Epoch 50/500\n",
      "460/460 [==============================] - 0s 220us/sample - loss: 0.5164 - val_loss: 0.4907\n",
      "Epoch 51/500\n",
      "460/460 [==============================] - 0s 222us/sample - loss: 0.5169 - val_loss: 0.4891\n",
      "Epoch 52/500\n",
      "460/460 [==============================] - 0s 217us/sample - loss: 0.5166 - val_loss: 0.4878\n",
      "Epoch 53/500\n",
      "460/460 [==============================] - 0s 220us/sample - loss: 0.5088 - val_loss: 0.4878\n",
      "Epoch 54/500\n",
      "460/460 [==============================] - 0s 224us/sample - loss: 0.5018 - val_loss: 0.4851\n",
      "Epoch 55/500\n",
      "460/460 [==============================] - 0s 222us/sample - loss: 0.5086 - val_loss: 0.4854\n",
      "Epoch 56/500\n",
      "460/460 [==============================] - 0s 211us/sample - loss: 0.5019 - val_loss: 0.4844\n",
      "Epoch 57/500\n",
      "460/460 [==============================] - 0s 217us/sample - loss: 0.4991 - val_loss: 0.4834\n",
      "Epoch 58/500\n",
      "460/460 [==============================] - 0s 215us/sample - loss: 0.4947 - val_loss: 0.4839\n",
      "Epoch 59/500\n",
      "460/460 [==============================] - 0s 217us/sample - loss: 0.5015 - val_loss: 0.4814\n",
      "Epoch 60/500\n",
      "460/460 [==============================] - 0s 224us/sample - loss: 0.5015 - val_loss: 0.4786\n",
      "Epoch 61/500\n",
      "460/460 [==============================] - 0s 220us/sample - loss: 0.5098 - val_loss: 0.4782\n",
      "Epoch 62/500\n",
      "460/460 [==============================] - 0s 217us/sample - loss: 0.5035 - val_loss: 0.4774\n",
      "Epoch 63/500\n",
      "460/460 [==============================] - 0s 211us/sample - loss: 0.4891 - val_loss: 0.4780\n",
      "Epoch 64/500\n",
      "460/460 [==============================] - 0s 224us/sample - loss: 0.4908 - val_loss: 0.4783\n",
      "Epoch 65/500\n",
      "460/460 [==============================] - 0s 217us/sample - loss: 0.5103 - val_loss: 0.4792\n",
      "Epoch 66/500\n",
      "460/460 [==============================] - 0s 217us/sample - loss: 0.4851 - val_loss: 0.4775\n",
      "Epoch 67/500\n",
      "460/460 [==============================] - 0s 226us/sample - loss: 0.4901 - val_loss: 0.4754\n",
      "Epoch 68/500\n",
      "460/460 [==============================] - 0s 191us/sample - loss: 0.5009 - val_loss: 0.4745\n",
      "Epoch 69/500\n",
      "460/460 [==============================] - 0s 207us/sample - loss: 0.4784 - val_loss: 0.4763\n",
      "Epoch 70/500\n",
      "460/460 [==============================] - 0s 211us/sample - loss: 0.4757 - val_loss: 0.4749\n",
      "Epoch 71/500\n",
      "460/460 [==============================] - 0s 233us/sample - loss: 0.4646 - val_loss: 0.4729\n",
      "Epoch 72/500\n",
      "460/460 [==============================] - 0s 233us/sample - loss: 0.4821 - val_loss: 0.4706\n",
      "Epoch 73/500\n",
      "460/460 [==============================] - 0s 217us/sample - loss: 0.4966 - val_loss: 0.4710\n",
      "Epoch 74/500\n",
      "460/460 [==============================] - 0s 209us/sample - loss: 0.4898 - val_loss: 0.4695\n",
      "Epoch 75/500\n",
      "460/460 [==============================] - 0s 202us/sample - loss: 0.5021 - val_loss: 0.4705\n",
      "Epoch 76/500\n",
      "460/460 [==============================] - 0s 235us/sample - loss: 0.4818 - val_loss: 0.4697\n",
      "Epoch 77/500\n",
      "460/460 [==============================] - 0s 233us/sample - loss: 0.4842 - val_loss: 0.4694\n"
     ]
    },
    {
     "name": "stdout",
     "output_type": "stream",
     "text": [
      "Epoch 78/500\n",
      "460/460 [==============================] - 0s 209us/sample - loss: 0.4774 - val_loss: 0.4708\n",
      "Epoch 79/500\n",
      "460/460 [==============================] - 0s 237us/sample - loss: 0.4874 - val_loss: 0.4688\n",
      "Epoch 80/500\n",
      "460/460 [==============================] - 0s 241us/sample - loss: 0.4805 - val_loss: 0.4688\n",
      "Epoch 81/500\n",
      "460/460 [==============================] - 0s 217us/sample - loss: 0.4718 - val_loss: 0.4689\n",
      "Epoch 82/500\n",
      "460/460 [==============================] - 0s 180us/sample - loss: 0.4872 - val_loss: 0.4669\n",
      "Epoch 83/500\n",
      "460/460 [==============================] - 0s 172us/sample - loss: 0.4798 - val_loss: 0.4679\n",
      "Epoch 84/500\n",
      "460/460 [==============================] - 0s 209us/sample - loss: 0.4788 - val_loss: 0.4652\n",
      "Epoch 85/500\n",
      "460/460 [==============================] - 0s 261us/sample - loss: 0.4712 - val_loss: 0.4653\n",
      "Epoch 86/500\n",
      "460/460 [==============================] - 0s 248us/sample - loss: 0.4787 - val_loss: 0.4653\n",
      "Epoch 87/500\n",
      "460/460 [==============================] - 0s 233us/sample - loss: 0.4964 - val_loss: 0.4666\n",
      "Epoch 88/500\n",
      "460/460 [==============================] - 0s 193us/sample - loss: 0.4864 - val_loss: 0.4666\n",
      "Epoch 89/500\n",
      "460/460 [==============================] - 0s 193us/sample - loss: 0.4783 - val_loss: 0.4662\n",
      "Epoch 90/500\n",
      "460/460 [==============================] - 0s 196us/sample - loss: 0.4814 - val_loss: 0.4645\n",
      "Epoch 91/500\n",
      "460/460 [==============================] - 0s 202us/sample - loss: 0.4598 - val_loss: 0.4632\n",
      "Epoch 92/500\n",
      "460/460 [==============================] - 0s 191us/sample - loss: 0.4643 - val_loss: 0.4624\n",
      "Epoch 93/500\n",
      "460/460 [==============================] - 0s 226us/sample - loss: 0.4648 - val_loss: 0.4627\n",
      "Epoch 94/500\n",
      "460/460 [==============================] - 0s 202us/sample - loss: 0.4767 - val_loss: 0.4644\n",
      "Epoch 95/500\n",
      "460/460 [==============================] - 0s 228us/sample - loss: 0.4814 - val_loss: 0.4636\n",
      "Epoch 96/500\n",
      "460/460 [==============================] - 0s 252us/sample - loss: 0.4709 - val_loss: 0.4636\n",
      "Epoch 97/500\n",
      "460/460 [==============================] - 0s 239us/sample - loss: 0.4691 - val_loss: 0.4627\n",
      "Epoch 98/500\n",
      "460/460 [==============================] - 0s 235us/sample - loss: 0.4629 - val_loss: 0.4636\n",
      "Epoch 99/500\n",
      "460/460 [==============================] - 0s 200us/sample - loss: 0.4763 - val_loss: 0.4620\n",
      "Epoch 100/500\n",
      "460/460 [==============================] - 0s 207us/sample - loss: 0.4783 - val_loss: 0.4622\n",
      "Epoch 101/500\n",
      "460/460 [==============================] - 0s 196us/sample - loss: 0.4580 - val_loss: 0.4619\n",
      "Epoch 102/500\n",
      "460/460 [==============================] - 0s 185us/sample - loss: 0.4751 - val_loss: 0.4620\n",
      "Epoch 103/500\n",
      "460/460 [==============================] - 0s 235us/sample - loss: 0.4752 - val_loss: 0.4614\n",
      "Epoch 104/500\n",
      "460/460 [==============================] - 0s 237us/sample - loss: 0.4698 - val_loss: 0.4613\n",
      "Epoch 105/500\n",
      "460/460 [==============================] - 0s 228us/sample - loss: 0.4599 - val_loss: 0.4616\n",
      "Epoch 106/500\n",
      "460/460 [==============================] - 0s 191us/sample - loss: 0.4543 - val_loss: 0.4632\n",
      "Epoch 107/500\n",
      "460/460 [==============================] - 0s 191us/sample - loss: 0.4613 - val_loss: 0.4627\n",
      "Epoch 108/500\n",
      "460/460 [==============================] - 0s 204us/sample - loss: 0.4509 - val_loss: 0.4614\n",
      "Epoch 109/500\n",
      "460/460 [==============================] - 0s 193us/sample - loss: 0.4630 - val_loss: 0.4616\n",
      "Epoch 110/500\n",
      "460/460 [==============================] - 0s 202us/sample - loss: 0.4585 - val_loss: 0.4624\n",
      "Epoch 111/500\n",
      "460/460 [==============================] - 0s 209us/sample - loss: 0.4655 - val_loss: 0.4615\n",
      "Epoch 112/500\n",
      "460/460 [==============================] - 0s 193us/sample - loss: 0.4572 - val_loss: 0.4612\n",
      "Epoch 113/500\n",
      "460/460 [==============================] - 0s 204us/sample - loss: 0.4486 - val_loss: 0.4620\n",
      "Epoch 114/500\n",
      "460/460 [==============================] - 0s 215us/sample - loss: 0.4715 - val_loss: 0.4641\n",
      "Epoch 115/500\n",
      "460/460 [==============================] - 0s 200us/sample - loss: 0.4548 - val_loss: 0.4616\n",
      "Epoch 116/500\n",
      "460/460 [==============================] - 0s 213us/sample - loss: 0.4499 - val_loss: 0.4638\n",
      "Epoch 117/500\n",
      "460/460 [==============================] - 0s 211us/sample - loss: 0.4739 - val_loss: 0.4627\n",
      "Epoch 118/500\n",
      "460/460 [==============================] - 0s 217us/sample - loss: 0.4552 - val_loss: 0.4604\n",
      "Epoch 119/500\n",
      "460/460 [==============================] - 0s 211us/sample - loss: 0.4613 - val_loss: 0.4609\n",
      "Epoch 120/500\n",
      "460/460 [==============================] - 0s 213us/sample - loss: 0.4600 - val_loss: 0.4635\n",
      "Epoch 121/500\n",
      "460/460 [==============================] - 0s 239us/sample - loss: 0.4633 - val_loss: 0.4640\n",
      "Epoch 122/500\n",
      "460/460 [==============================] - 0s 246us/sample - loss: 0.4487 - val_loss: 0.4635\n",
      "Epoch 123/500\n",
      "460/460 [==============================] - 0s 239us/sample - loss: 0.4446 - val_loss: 0.4642\n",
      "Epoch 124/500\n",
      "460/460 [==============================] - 0s 163us/sample - loss: 0.4622 - val_loss: 0.4634\n",
      "Epoch 125/500\n",
      "460/460 [==============================] - 0s 154us/sample - loss: 0.4619 - val_loss: 0.4651\n",
      "Epoch 126/500\n",
      "460/460 [==============================] - 0s 217us/sample - loss: 0.4587 - val_loss: 0.4660\n",
      "Epoch 127/500\n",
      "460/460 [==============================] - 0s 202us/sample - loss: 0.4454 - val_loss: 0.4649\n",
      "Epoch 128/500\n",
      "460/460 [==============================] - 0s 252us/sample - loss: 0.4532 - val_loss: 0.4628\n",
      "Epoch 129/500\n",
      "460/460 [==============================] - 0s 333us/sample - loss: 0.4736 - val_loss: 0.4641\n",
      "Epoch 130/500\n",
      "460/460 [==============================] - 0s 220us/sample - loss: 0.4599 - val_loss: 0.4663\n",
      "Epoch 131/500\n",
      "460/460 [==============================] - 0s 204us/sample - loss: 0.4534 - val_loss: 0.4648\n",
      "Epoch 132/500\n",
      "460/460 [==============================] - 0s 220us/sample - loss: 0.4492 - val_loss: 0.4644\n",
      "Epoch 133/500\n",
      "460/460 [==============================] - 0s 215us/sample - loss: 0.4614 - val_loss: 0.4657\n",
      "Epoch 134/500\n",
      "460/460 [==============================] - 0s 213us/sample - loss: 0.4492 - val_loss: 0.4648\n",
      "Epoch 135/500\n",
      "460/460 [==============================] - 0s 200us/sample - loss: 0.4441 - val_loss: 0.4640\n",
      "Epoch 136/500\n",
      "460/460 [==============================] - 0s 324us/sample - loss: 0.4558 - val_loss: 0.4641\n",
      "Epoch 137/500\n",
      "460/460 [==============================] - 0s 213us/sample - loss: 0.4509 - val_loss: 0.4637\n",
      "Epoch 138/500\n",
      "460/460 [==============================] - 0s 193us/sample - loss: 0.4591 - val_loss: 0.4651\n",
      "Epoch 139/500\n",
      "460/460 [==============================] - 0s 217us/sample - loss: 0.4571 - val_loss: 0.4651\n",
      "Epoch 140/500\n",
      "460/460 [==============================] - 0s 200us/sample - loss: 0.4666 - val_loss: 0.4647\n",
      "Epoch 141/500\n",
      "460/460 [==============================] - 0s 174us/sample - loss: 0.4542 - val_loss: 0.4660\n",
      "Epoch 142/500\n",
      "460/460 [==============================] - 0s 230us/sample - loss: 0.4458 - val_loss: 0.4643\n",
      "Epoch 143/500\n",
      "460/460 [==============================] - 0s 183us/sample - loss: 0.4422 - val_loss: 0.4639\n",
      "Epoch 00143: early stopping\n"
     ]
    },
    {
     "data": {
      "text/plain": [
       "<tensorflow.python.keras.callbacks.History at 0x3252fb08>"
      ]
     },
     "execution_count": 300,
     "metadata": {},
     "output_type": "execute_result"
    }
   ],
   "source": [
    "model.fit(x= X_train,\n",
    "          y= y_train,\n",
    "          epochs=500,\n",
    "          batch_size=15,\n",
    "          validation_data=(X_test,y_test),\n",
    "          callbacks = [early_stop],\n",
    "         )"
   ]
  },
  {
   "cell_type": "code",
   "execution_count": 301,
   "metadata": {},
   "outputs": [
    {
     "data": {
      "text/plain": [
       "<matplotlib.axes._subplots.AxesSubplot at 0x2e476788>"
      ]
     },
     "execution_count": 301,
     "metadata": {},
     "output_type": "execute_result"
    },
    {
     "data": {
      "text/plain": [
       "<Figure size 720x432 with 0 Axes>"
      ]
     },
     "metadata": {},
     "output_type": "display_data"
    },
    {
     "data": {
      "image/png": "[encoded data removed]",
      "text/plain": [
       "<Figure size 432x288 with 1 Axes>"
      ]
     },
     "metadata": {
      "needs_background": "light"
     },
     "output_type": "display_data"
    }
   ],
   "source": [
    "losses = pd.DataFrame(model.history.history)\n",
    "\n",
    "plt.figure(figsize=(10,6))\n",
    "losses[[\"loss\",\"val_loss\"]].plot()"
   ]
  },
  {
   "cell_type": "code",
   "execution_count": 302,
   "metadata": {},
   "outputs": [],
   "source": [
    "from sklearn.metrics import classification_report, confusion_matrix"
   ]
  },
  {
   "cell_type": "code",
   "execution_count": 303,
   "metadata": {},
   "outputs": [],
   "source": [
    "predictions = model.predict_classes(X_test)"
   ]
  },
  {
   "cell_type": "code",
   "execution_count": 304,
   "metadata": {},
   "outputs": [
    {
     "name": "stdout",
     "output_type": "stream",
     "text": [
      "[[22 19]\n",
      " [ 1 73]]\n",
      "              precision    recall  f1-score   support\n",
      "\n",
      "           0       0.96      0.54      0.69        41\n",
      "           1       0.79      0.99      0.88        74\n",
      "\n",
      "    accuracy                           0.83       115\n",
      "   macro avg       0.88      0.76      0.78       115\n",
      "weighted avg       0.85      0.83      0.81       115\n",
      "\n"
     ]
    }
   ],
   "source": [
    "print(confusion_matrix(y_test,predictions))\n",
    "print(classification_report(y_test,predictions))"
   ]
  },
  {
   "cell_type": "code",
   "execution_count": 305,
   "metadata": {},
   "outputs": [],
   "source": [
    "df_test=pd.read_csv(\"test.csv\")"
   ]
  },
  {
   "cell_type": "code",
   "execution_count": 306,
   "metadata": {},
   "outputs": [
    {
     "data": {
      "text/html": [
       "<div>\n",
       "<style scoped>\n",
       "    .dataframe tbody tr th:only-of-type {\n",
       "        vertical-align: middle;\n",
       "    }\n",
       "\n",
       "    .dataframe tbody tr th {\n",
       "        vertical-align: top;\n",
       "    }\n",
       "\n",
       "    .dataframe thead th {\n",
       "        text-align: right;\n",
       "    }\n",
       "</style>\n",
       "<table border=\"1\" class=\"dataframe\">\n",
       "  <thead>\n",
       "    <tr style=\"text-align: right;\">\n",
       "      <th></th>\n",
       "      <th>Loan_ID</th>\n",
       "      <th>Gender</th>\n",
       "      <th>Married</th>\n",
       "      <th>Dependents</th>\n",
       "      <th>Education</th>\n",
       "      <th>Self_Employed</th>\n",
       "      <th>ApplicantIncome</th>\n",
       "      <th>CoapplicantIncome</th>\n",
       "      <th>LoanAmount</th>\n",
       "      <th>Loan_Amount_Term</th>\n",
       "      <th>Credit_History</th>\n",
       "      <th>Property_Area</th>\n",
       "    </tr>\n",
       "  </thead>\n",
       "  <tbody>\n",
       "    <tr>\n",
       "      <td>0</td>\n",
       "      <td>LP001015</td>\n",
       "      <td>Male</td>\n",
       "      <td>Yes</td>\n",
       "      <td>0</td>\n",
       "      <td>Graduate</td>\n",
       "      <td>No</td>\n",
       "      <td>5720</td>\n",
       "      <td>0</td>\n",
       "      <td>110.0</td>\n",
       "      <td>360.0</td>\n",
       "      <td>1.0</td>\n",
       "      <td>Urban</td>\n",
       "    </tr>\n",
       "    <tr>\n",
       "      <td>1</td>\n",
       "      <td>LP001022</td>\n",
       "      <td>Male</td>\n",
       "      <td>Yes</td>\n",
       "      <td>1</td>\n",
       "      <td>Graduate</td>\n",
       "      <td>No</td>\n",
       "      <td>3076</td>\n",
       "      <td>1500</td>\n",
       "      <td>126.0</td>\n",
       "      <td>360.0</td>\n",
       "      <td>1.0</td>\n",
       "      <td>Urban</td>\n",
       "    </tr>\n",
       "    <tr>\n",
       "      <td>2</td>\n",
       "      <td>LP001031</td>\n",
       "      <td>Male</td>\n",
       "      <td>Yes</td>\n",
       "      <td>2</td>\n",
       "      <td>Graduate</td>\n",
       "      <td>No</td>\n",
       "      <td>5000</td>\n",
       "      <td>1800</td>\n",
       "      <td>208.0</td>\n",
       "      <td>360.0</td>\n",
       "      <td>1.0</td>\n",
       "      <td>Urban</td>\n",
       "    </tr>\n",
       "    <tr>\n",
       "      <td>3</td>\n",
       "      <td>LP001035</td>\n",
       "      <td>Male</td>\n",
       "      <td>Yes</td>\n",
       "      <td>2</td>\n",
       "      <td>Graduate</td>\n",
       "      <td>No</td>\n",
       "      <td>2340</td>\n",
       "      <td>2546</td>\n",
       "      <td>100.0</td>\n",
       "      <td>360.0</td>\n",
       "      <td>NaN</td>\n",
       "      <td>Urban</td>\n",
       "    </tr>\n",
       "    <tr>\n",
       "      <td>4</td>\n",
       "      <td>LP001051</td>\n",
       "      <td>Male</td>\n",
       "      <td>No</td>\n",
       "      <td>0</td>\n",
       "      <td>Not Graduate</td>\n",
       "      <td>No</td>\n",
       "      <td>3276</td>\n",
       "      <td>0</td>\n",
       "      <td>78.0</td>\n",
       "      <td>360.0</td>\n",
       "      <td>1.0</td>\n",
       "      <td>Urban</td>\n",
       "    </tr>\n",
       "  </tbody>\n",
       "</table>\n",
       "</div>"
      ],
      "text/plain": [
       "    Loan_ID Gender Married Dependents     Education Self_Employed  \\\n",
       "0  LP001015   Male     Yes          0      Graduate            No   \n",
       "1  LP001022   Male     Yes          1      Graduate            No   \n",
       "2  LP001031   Male     Yes          2      Graduate            No   \n",
       "3  LP001035   Male     Yes          2      Graduate            No   \n",
       "4  LP001051   Male      No          0  Not Graduate            No   \n",
       "\n",
       "   ApplicantIncome  CoapplicantIncome  LoanAmount  Loan_Amount_Term  \\\n",
       "0             5720                  0       110.0             360.0   \n",
       "1             3076               1500       126.0             360.0   \n",
       "2             5000               1800       208.0             360.0   \n",
       "3             2340               2546       100.0             360.0   \n",
       "4             3276                  0        78.0             360.0   \n",
       "\n",
       "   Credit_History Property_Area  \n",
       "0             1.0         Urban  \n",
       "1             1.0         Urban  \n",
       "2             1.0         Urban  \n",
       "3             NaN         Urban  \n",
       "4             1.0         Urban  "
      ]
     },
     "execution_count": 306,
     "metadata": {},
     "output_type": "execute_result"
    }
   ],
   "source": [
    "df_test.head()"
   ]
  },
  {
   "cell_type": "code",
   "execution_count": 307,
   "metadata": {},
   "outputs": [
    {
     "data": {
      "text/plain": [
       "Loan_ID               0\n",
       "Gender               11\n",
       "Married               0\n",
       "Dependents           10\n",
       "Education             0\n",
       "Self_Employed        23\n",
       "ApplicantIncome       0\n",
       "CoapplicantIncome     0\n",
       "LoanAmount            5\n",
       "Loan_Amount_Term      6\n",
       "Credit_History       29\n",
       "Property_Area         0\n",
       "dtype: int64"
      ]
     },
     "execution_count": 307,
     "metadata": {},
     "output_type": "execute_result"
    }
   ],
   "source": [
    "df_test.isnull().sum()"
   ]
  },
  {
   "cell_type": "code",
   "execution_count": 308,
   "metadata": {},
   "outputs": [],
   "source": [
    "test_id = df_test[\"Loan_ID\"]"
   ]
  },
  {
   "cell_type": "code",
   "execution_count": 309,
   "metadata": {},
   "outputs": [],
   "source": [
    "df_test.drop([\"Loan_ID\"],axis=1,inplace=True) "
   ]
  },
  {
   "cell_type": "code",
   "execution_count": 310,
   "metadata": {},
   "outputs": [
    {
     "data": {
      "text/plain": [
       "Index(['Gender', 'Married', 'Dependents', 'Education', 'Self_Employed',\n",
       "       'ApplicantIncome', 'CoapplicantIncome', 'LoanAmount',\n",
       "       'Loan_Amount_Term', 'Credit_History', 'Property_Area'],\n",
       "      dtype='object')"
      ]
     },
     "execution_count": 310,
     "metadata": {},
     "output_type": "execute_result"
    }
   ],
   "source": [
    "df_test.columns"
   ]
  },
  {
   "cell_type": "code",
   "execution_count": 311,
   "metadata": {},
   "outputs": [],
   "source": [
    "df_test[\"Gender\"] = df_test[\"Gender\"].replace({\"Male\":1,\"Female\":0})"
   ]
  },
  {
   "cell_type": "code",
   "execution_count": 312,
   "metadata": {},
   "outputs": [],
   "source": [
    "df_test[\"Married\"] = pd.get_dummies(df_test[\"Married\"],drop_first=True)"
   ]
  },
  {
   "cell_type": "code",
   "execution_count": 313,
   "metadata": {},
   "outputs": [],
   "source": [
    "df_test['Dependents'].fillna(df_test['Dependents'].mode()[0], inplace=True)"
   ]
  },
  {
   "cell_type": "code",
   "execution_count": 314,
   "metadata": {},
   "outputs": [],
   "source": [
    "df_test[\"Dependents\"].replace({\"0\":0, \"1\":1, \"2\":2, \"3+\":3}, inplace=True)"
   ]
  },
  {
   "cell_type": "code",
   "execution_count": 315,
   "metadata": {},
   "outputs": [],
   "source": [
    "df_test[\"Education\"] = pd.get_dummies(df_test[\"Education\"], drop_first=True)"
   ]
  },
  {
   "cell_type": "code",
   "execution_count": 316,
   "metadata": {},
   "outputs": [],
   "source": [
    "df_test[\"Self_Employed\"] = pd.get_dummies(df_test[\"Self_Employed\"], drop_first=True)"
   ]
  },
  {
   "cell_type": "code",
   "execution_count": 317,
   "metadata": {},
   "outputs": [],
   "source": [
    "df_test[\"TotalIncome\"]=df_test[\"ApplicantIncome\"] + df_test[\"CoapplicantIncome\"]"
   ]
  },
  {
   "cell_type": "code",
   "execution_count": 318,
   "metadata": {},
   "outputs": [],
   "source": [
    "df_test[\"Total_Income_Log\"] = np.log(df_test[\"TotalIncome\"])"
   ]
  },
  {
   "cell_type": "code",
   "execution_count": 319,
   "metadata": {},
   "outputs": [],
   "source": [
    "df_test[\"LoanAmount\"].fillna(df_test[\"LoanAmount\"].mean(),inplace=True)"
   ]
  },
  {
   "cell_type": "code",
   "execution_count": 320,
   "metadata": {},
   "outputs": [],
   "source": [
    "df_test[\"LoanAmount_Log\"] = np.log(df_test[\"LoanAmount\"])"
   ]
  },
  {
   "cell_type": "code",
   "execution_count": 321,
   "metadata": {},
   "outputs": [],
   "source": [
    "df_test.drop([\"TotalIncome\",\"LoanAmount\",\"ApplicantIncome\",\"CoapplicantIncome\"],axis=1,inplace=True)"
   ]
  },
  {
   "cell_type": "code",
   "execution_count": 322,
   "metadata": {},
   "outputs": [
    {
     "data": {
      "text/plain": [
       "Gender              11\n",
       "Married              0\n",
       "Dependents           0\n",
       "Education            0\n",
       "Self_Employed        0\n",
       "Loan_Amount_Term     6\n",
       "Credit_History      29\n",
       "Property_Area        0\n",
       "Total_Income_Log     0\n",
       "LoanAmount_Log       0\n",
       "dtype: int64"
      ]
     },
     "execution_count": 322,
     "metadata": {},
     "output_type": "execute_result"
    }
   ],
   "source": [
    "df_test.isnull().sum()"
   ]
  },
  {
   "cell_type": "code",
   "execution_count": 323,
   "metadata": {},
   "outputs": [
    {
     "data": {
      "text/plain": [
       "Index(['Gender', 'Married', 'Dependents', 'Education', 'Self_Employed',\n",
       "       'Loan_Amount_Term', 'Credit_History', 'Property_Area',\n",
       "       'Total_Income_Log', 'LoanAmount_Log'],\n",
       "      dtype='object')"
      ]
     },
     "execution_count": 323,
     "metadata": {},
     "output_type": "execute_result"
    }
   ],
   "source": [
    "df_test.columns"
   ]
  },
  {
   "cell_type": "code",
   "execution_count": 324,
   "metadata": {},
   "outputs": [],
   "source": [
    "df_test[\"Gender\"] = df_test.apply(lambda x: fill_nan(x[\"Gender\"],x[\"Married\"]),axis=1)"
   ]
  },
  {
   "cell_type": "code",
   "execution_count": 325,
   "metadata": {},
   "outputs": [],
   "source": [
    "df_test['Loan_Amount_Term'].fillna(df_test['Loan_Amount_Term'].mode()[0], inplace=True)"
   ]
  },
  {
   "cell_type": "code",
   "execution_count": 326,
   "metadata": {},
   "outputs": [],
   "source": [
    "df_test[\"Credit_History\"].fillna(df_test[\"Credit_History\"].mode()[0],inplace=True)"
   ]
  },
  {
   "cell_type": "code",
   "execution_count": 327,
   "metadata": {},
   "outputs": [],
   "source": [
    "dummies = pd.get_dummies(df_test[\"Property_Area\"],drop_first=True)\n",
    "df_test=pd.concat([df_test,dummies],axis=1)\n",
    "df_test.drop([\"Property_Area\"],axis=1,inplace=True)"
   ]
  },
  {
   "cell_type": "code",
   "execution_count": 328,
   "metadata": {},
   "outputs": [],
   "source": [
    "test=df_test.values"
   ]
  },
  {
   "cell_type": "code",
   "execution_count": 329,
   "metadata": {},
   "outputs": [
    {
     "data": {
      "text/plain": [
       "Index(['Gender', 'Married', 'Dependents', 'Education', 'Self_Employed',\n",
       "       'Loan_Amount_Term', 'Credit_History', 'Total_Income_Log',\n",
       "       'LoanAmount_Log', 'Semiurban', 'Urban'],\n",
       "      dtype='object')"
      ]
     },
     "execution_count": 329,
     "metadata": {},
     "output_type": "execute_result"
    }
   ],
   "source": [
    "df_test.columns"
   ]
  },
  {
   "cell_type": "code",
   "execution_count": 330,
   "metadata": {},
   "outputs": [],
   "source": [
    "scaled_test = scaler.transform(test)"
   ]
  },
  {
   "cell_type": "code",
   "execution_count": 331,
   "metadata": {},
   "outputs": [],
   "source": [
    "result = model.predict_classes(scaled_test)"
   ]
  },
  {
   "cell_type": "code",
   "execution_count": 332,
   "metadata": {},
   "outputs": [],
   "source": [
    "test_id = pd.DataFrame(data=test_id,columns=[\"Loan_ID\"])"
   ]
  },
  {
   "cell_type": "code",
   "execution_count": 333,
   "metadata": {},
   "outputs": [],
   "source": [
    "result=pd.DataFrame(data=result,columns=[\"Loan_Status\"])\n",
    "result=result[\"Loan_Status\"].replace({1:\"Y\",0:\"N\"})"
   ]
  },
  {
   "cell_type": "code",
   "execution_count": 334,
   "metadata": {},
   "outputs": [],
   "source": [
    "df_result=pd.concat([test_id,result],axis=1)"
   ]
  },
  {
   "cell_type": "code",
   "execution_count": 335,
   "metadata": {},
   "outputs": [],
   "source": [
    "df_result.to_csv(r'submission4.csv',index=False)"
   ]
  },
  {
   "cell_type": "code",
   "execution_count": null,
   "metadata": {},
   "outputs": [],
   "source": []
  }
 ],
 "metadata": {
  "kernelspec": {
   "display_name": "Python 3",
   "language": "python",
   "name": "python3"
  },
  "language_info": {
   "codemirror_mode": {
    "name": "ipython",
    "version": 3
   },
   "file_extension": ".py",
   "mimetype": "text/x-python",
   "name": "python",
   "nbconvert_exporter": "python",
   "pygments_lexer": "ipython3",
   "version": "3.7.4"
  }
 },
 "nbformat": 4,
 "nbformat_minor": 2
}
